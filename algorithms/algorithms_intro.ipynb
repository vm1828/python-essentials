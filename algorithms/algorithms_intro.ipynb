{
 "cells": [
  {
   "attachments": {},
   "cell_type": "markdown",
   "metadata": {},
   "source": [
    "### Algorithms Classification\n",
    "\n",
    "- serial/parallel\n",
    "- exact/approximate (result)\n",
    "- deterministic/non-deterministic\n",
    "  \n",
    "#### Types of algorithms\n",
    "\n",
    "- search algorithms (find specific data in a structure)\n",
    "- sorting algorithms (sort dataset in a specific order)\n",
    "- compunational algorithms (given one set of data calculate another)\n",
    "- collection algorithms (work with collections of data)"
   ]
  }
 ],
 "metadata": {
  "kernelspec": {
   "display_name": ".venv",
   "language": "python",
   "name": "python3"
  },
  "language_info": {
   "name": "python",
   "version": "3.8.10"
  },
  "orig_nbformat": 4,
  "vscode": {
   "interpreter": {
    "hash": "b391c3d66e7cdcd5c2a5ce5e3c0ae4d73a495d78b8a59ddddcc985ac8a7ff4e9"
   }
  }
 },
 "nbformat": 4,
 "nbformat_minor": 2
}
