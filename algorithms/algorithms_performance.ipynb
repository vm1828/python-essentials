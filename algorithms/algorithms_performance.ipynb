{
 "cells": [
  {
   "attachments": {},
   "cell_type": "markdown",
   "metadata": {},
   "source": [
    "### Algorithm Performance"
   ]
  },
  {
   "attachments": {},
   "cell_type": "markdown",
   "metadata": {},
   "source": [
    "Algorithm Complexity:\n",
    "\n",
    "- Space complexity: How much memory does it require?\n",
    "- Time complexity: how much time does it take to complete?\n",
    "\n",
    "Big-O notation:\n",
    "\n",
    "- Classifies performance (time complexity) as the input size grows\n",
    "- 'O' indicates the _order of operation_: time scale to perform an operation. It usually describes the worst case scenario of how long it takes to perform a given operation.\n",
    "\n",
    "| Notation         | Description               | Example                                                                            |\n",
    "| ---------------- | ------------------------- | ---------------------------------------------------------------------------------- |\n",
    "| O(1)             | Constant time             | Looking up a single element in an array                                            |\n",
    "| O(log n)         | Logarithmic               | Finding an item in a sorted array with a binary search                             |\n",
    "| O(n)             | Linear time               | Searching an unsorted array for a specific value                                   |\n",
    "| O(n log n)       | Linearithmic (Log-linear) | Complex sorting algorithms like heap sort and merge sort                           |\n",
    "| O(n<sup>2</sup>) | Quadratic                 | Simple sorting algorithms, such as bubble sort, selection sort, and insertion sort |\n"
   ]
  },
  {
   "attachments": {},
   "cell_type": "markdown",
   "metadata": {},
   "source": [
    "### Time Complexity  \n",
    "  \n",
    "Basic operations:\n",
    "- assignments\n",
    "- arithmetic operations\n",
    "- comparison statements\n",
    "- calling a function\n",
    "- return statements"
   ]
  },
  {
   "cell_type": "code",
   "execution_count": null,
   "metadata": {},
   "outputs": [],
   "source": [
    "# example\n",
    "\n",
    "n = 100             # assignment: 1 time\n",
    "count = 0           # assignment: 1 time\n",
    "while count < n:    # comparison operation: n times\n",
    "    count += 1      # arithmetic operation and assignment: n + n times\n",
    "    print(count)    # output statement: n times"
   ]
  },
  {
   "attachments": {},
   "cell_type": "markdown",
   "metadata": {},
   "source": [
    "Simplifications:\n",
    "\n",
    "O(n+10)      => O(n)\n",
    "O(100*n)     => O(n)\n",
    "O(50)        => O(1)\n",
    "O(n^2 + n^3) => O(n^3)\n",
    "\n",
    "The reason we make simplifications is that we are interested in how the number of operations grows as *n* becomes very large, and the contributionof all but the largest term becomes less significant the larger *n* becomes"
   ]
  },
  {
   "attachments": {},
   "cell_type": "markdown",
   "metadata": {},
   "source": [
    "### Space complexity"
   ]
  },
  {
   "cell_type": "code",
   "execution_count": null,
   "metadata": {},
   "outputs": [],
   "source": [
    "# Examples\n",
    "\n",
    "# O(1)\n",
    "def total(lst):\n",
    "    total = 0\n",
    "    for i in lst:\n",
    "        total += 1\n",
    "    return total\n",
    "\n",
    "# O(n)\n",
    "def copy(lst):\n",
    "    new_lst = []\n",
    "    for i in lst:\n",
    "        new_lst.append(i)\n",
    "    return new_lst\n",
    "# required space will increase depending on the length of the input list"
   ]
  }
 ],
 "metadata": {
  "kernelspec": {
   "display_name": ".venv",
   "language": "python",
   "name": "python3"
  },
  "language_info": {
   "name": "python",
   "version": "3.8.10"
  },
  "orig_nbformat": 4,
  "vscode": {
   "interpreter": {
    "hash": "b391c3d66e7cdcd5c2a5ce5e3c0ae4d73a495d78b8a59ddddcc985ac8a7ff4e9"
   }
  }
 },
 "nbformat": 4,
 "nbformat_minor": 2
}
