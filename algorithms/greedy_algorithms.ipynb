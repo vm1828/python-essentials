{
 "cells": [
  {
   "attachments": {},
   "cell_type": "markdown",
   "metadata": {},
   "source": [
    "### Greedy algorithms\n",
    "\n",
    "- Make locally optimal choices\n",
    "- Do not revisit choices once made\n",
    "  \n",
    "Advantages:\n",
    "- often fast\n",
    "- easy to implement\n",
    "  \n",
    "Disadvantages:\n",
    "- short sighted - may not provide optimal solution\n",
    "- may fail on some instances of a problem"
   ]
  }
 ],
 "metadata": {
  "language_info": {
   "name": "python"
  },
  "orig_nbformat": 4
 },
 "nbformat": 4,
 "nbformat_minor": 2
}
