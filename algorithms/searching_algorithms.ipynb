{
 "cells": [
  {
   "attachments": {},
   "cell_type": "markdown",
   "metadata": {},
   "source": [
    "# Sorting Algorithms"
   ]
  },
  {
   "cell_type": "code",
   "execution_count": 1,
   "metadata": {},
   "outputs": [],
   "source": [
    "unordered_list = [6, 3, 12, 27, 5, 1]\n",
    "ordered_list = [1, 3, 5, 6, 12, 27]"
   ]
  },
  {
   "attachments": {},
   "cell_type": "markdown",
   "metadata": {},
   "source": [
    "## Unordered list search"
   ]
  },
  {
   "attachments": {},
   "cell_type": "markdown",
   "metadata": {},
   "source": [
    "Time complexity: linear O(n)  "
   ]
  },
  {
   "cell_type": "code",
   "execution_count": 2,
   "metadata": {},
   "outputs": [],
   "source": [
    "def find_item(item, dataset):\n",
    "    for i in range(0, len(dataset)):\n",
    "        if item == dataset[i]:\n",
    "            return i\n",
    "    return None"
   ]
  },
  {
   "cell_type": "code",
   "execution_count": 3,
   "metadata": {},
   "outputs": [
    {
     "name": "stdout",
     "output_type": "stream",
     "text": [
      "4\n",
      "None\n"
     ]
    }
   ],
   "source": [
    "print(find_item(5, unordered_list))\n",
    "print(find_item(111, unordered_list))"
   ]
  },
  {
   "attachments": {},
   "cell_type": "markdown",
   "metadata": {},
   "source": [
    "## Ordered list search (binary search)"
   ]
  },
  {
   "attachments": {},
   "cell_type": "markdown",
   "metadata": {},
   "source": [
    "Time complexity: logarithmic O(log n)  "
   ]
  },
  {
   "cell_type": "code",
   "execution_count": 4,
   "metadata": {},
   "outputs": [],
   "source": [
    "def binary_search(item, dataset):\n",
    "    lower_index = 0\n",
    "    upper_index = len(dataset) - 1\n",
    "    \n",
    "    while lower_index <= upper_index:\n",
    "        # calculate the midpoint\n",
    "        midPt = (lower_index + upper_index) // 2\n",
    "        # if item is found, return the index\n",
    "        if dataset[midPt] == item:\n",
    "            return midPt\n",
    "        # otherwise get the next midpoint\n",
    "        if item > dataset[midPt]:\n",
    "            lower_index = midPt + 1\n",
    "        else:\n",
    "            upper_index = midPt - 1\n",
    "\n",
    "    if lower_index > upper_index:\n",
    "        return None"
   ]
  },
  {
   "cell_type": "code",
   "execution_count": 5,
   "metadata": {},
   "outputs": [
    {
     "name": "stdout",
     "output_type": "stream",
     "text": [
      "2\n",
      "None\n"
     ]
    }
   ],
   "source": [
    "print(binary_search(5, ordered_list))\n",
    "print(find_item(111, ordered_list))"
   ]
  },
  {
   "attachments": {},
   "cell_type": "markdown",
   "metadata": {},
   "source": [
    "## Determine if a list is sorted"
   ]
  },
  {
   "cell_type": "code",
   "execution_count": 6,
   "metadata": {},
   "outputs": [],
   "source": [
    "def is_sorted(dataset):\n",
    "    # for i in range(0, len(lst)-1):\n",
    "    #     if (lst[i] > lst[i+1]):\n",
    "    #         return False\n",
    "    # return True\n",
    "\n",
    "    return all(dataset[i] <= dataset[i+1] for i in range(len(dataset)-1))"
   ]
  },
  {
   "cell_type": "code",
   "execution_count": 7,
   "metadata": {},
   "outputs": [
    {
     "name": "stdout",
     "output_type": "stream",
     "text": [
      "False\n",
      "True\n"
     ]
    }
   ],
   "source": [
    "print(is_sorted(unordered_list))\n",
    "print(is_sorted(ordered_list))"
   ]
  }
 ],
 "metadata": {
  "kernelspec": {
   "display_name": "venv",
   "language": "python",
   "name": "python3"
  },
  "language_info": {
   "codemirror_mode": {
    "name": "ipython",
    "version": 3
   },
   "file_extension": ".py",
   "mimetype": "text/x-python",
   "name": "python",
   "nbconvert_exporter": "python",
   "pygments_lexer": "ipython3",
   "version": "3.8.10"
  },
  "orig_nbformat": 4,
  "vscode": {
   "interpreter": {
    "hash": "0000805b724c1562212277f51ef19a430422aed4b5168dbda158a89ccfc728d6"
   }
  }
 },
 "nbformat": 4,
 "nbformat_minor": 2
}
