{
 "cells": [
  {
   "cell_type": "markdown",
   "metadata": {},
   "source": [
    "# Sorting Algorithms"
   ]
  },
  {
   "cell_type": "code",
   "execution_count": 1,
   "metadata": {},
   "outputs": [],
   "source": [
    "from timeit import timeit\n",
    "reruns = 1000\n",
    "small_dataset = '[6, 3, 12, 27, 5, 1]'\n",
    "large_dataset = '[6, 3, 12, 27, 5, 1, 6, 3, 12, 27, 5, 1, 6, 3, 12, 27, 5, 1, 6, 3, 12, 27, 5, 1, 6, 3, 12, 27, 5, 1, 6, 3, 12, 27, 5, 1]'"
   ]
  },
  {
   "attachments": {},
   "cell_type": "markdown",
   "metadata": {},
   "source": [
    "## Selection sort\n",
    "\n",
    "Time complexity: quadratic O(n^2)"
   ]
  },
  {
   "cell_type": "code",
   "execution_count": 2,
   "metadata": {},
   "outputs": [
    {
     "name": "stdout",
     "output_type": "stream",
     "text": [
      "False\n",
      "True\n"
     ]
    }
   ],
   "source": [
    "def selection_sort(dataset):\n",
    "    for idx in range(len(dataset)-1):   # last item will automatically be in correct position\n",
    "        min_idx = idx\n",
    "        for j in range (idx+1, len(dataset)):\n",
    "            if dataset[j] < dataset[min_idx]:\n",
    "                min_idx = j\n",
    "        dataset[idx], dataset[min_idx] = dataset[min_idx], dataset[idx]\n",
    "    return dataset\n",
    "\n",
    "l = [6, 3, 12, 27, 5, 1]\n",
    "print(all(l[i] <= l[i+1] for i in range(len(l)-1)))\n",
    "l = selection_sort(l)\n",
    "print(all(l[i] <= l[i+1] for i in range(len(l)-1)))"
   ]
  },
  {
   "cell_type": "markdown",
   "metadata": {},
   "source": [
    "## Bubble sort\n",
    "\n",
    "Time complexity: quadratic O(n^2)"
   ]
  },
  {
   "cell_type": "code",
   "execution_count": 3,
   "metadata": {},
   "outputs": [],
   "source": [
    "def bubble_sort(dataset):\n",
    "    for i in range(len(dataset)-1, 0, -1):\n",
    "        # start at the last index, end at the first index, decrease one step at a time\n",
    "        for j in range(i):\n",
    "            if dataset[j] > dataset[j+1]:\n",
    "                # temp = dataset[j]\n",
    "                # dataset[j] = dataset[j+1]\n",
    "                # dataset[j+1] = temp\n",
    "                dataset[j], dataset[j+1] = dataset[j+1], dataset[j]\n",
    "    return dataset"
   ]
  },
  {
   "attachments": {},
   "cell_type": "markdown",
   "metadata": {},
   "source": [
    "## Merge sort\n",
    "\n",
    "Time complexity: linearithmic O(n log n)  \n",
    "  \n",
    "- Divide-and-conquer algorithm\n",
    "- Breaks a dataset into individual pieces and merges them\n",
    "- Uses recursion to operate on datasets\n",
    "- Performs well on large sets of data"
   ]
  },
  {
   "cell_type": "code",
   "execution_count": 4,
   "metadata": {},
   "outputs": [],
   "source": [
    "def merge_sort(dataset):\n",
    "\n",
    "    # breaking condition\n",
    "    if len(dataset) > 1:\n",
    "        mid = len(dataset) // 2\n",
    "        leftarr = dataset[:mid]\n",
    "        rightarray = dataset[mid:]\n",
    "\n",
    "        # recursively break down the arrays\n",
    "        merge_sort(leftarr)\n",
    "        merge_sort(rightarray)\n",
    "\n",
    "        # perform the merging\n",
    "        i = 0     # index into the left array\n",
    "        j = 0     # index into the right array\n",
    "        k = 0     # index into merged array\n",
    "        # while both arrays have content\n",
    "        while i < len(leftarr) and j < len(rightarray):\n",
    "            if leftarr[i] < rightarray[j]:\n",
    "                dataset[k] = leftarr[i]\n",
    "                i += 1\n",
    "            else:\n",
    "                dataset[k] = rightarray[j]\n",
    "                j += 1\n",
    "            k += 1\n",
    "\n",
    "        # if the left array still has values, add them\n",
    "        while i < len(leftarr):\n",
    "            dataset[k] = leftarr[i]\n",
    "            i += 1\n",
    "            k += 1\n",
    "        # if the right array still has values, add them\n",
    "        while j < len(rightarray):\n",
    "            dataset[k] = rightarray[j]\n",
    "            j += 1\n",
    "            k += 1\n",
    "\n",
    "    return dataset\n",
    "\n",
    "\n",
    "# def merge(l1, l2):\n",
    "#     \"\"\"Merge two arrays\"\"\"\n",
    "#     result = []\n",
    "#     i = j = 0\n",
    "#     while i < len(l1) and j < len(l2):\n",
    "#         if l1[i] < l2[j]:\n",
    "#             result.append(l1[i])\n",
    "#             i += 1\n",
    "#         else:\n",
    "#             result.append(l2[j])\n",
    "#             j += 1\n",
    "#     while i < len(l1):\n",
    "#         result.append(l1[i])\n",
    "#         i += 1\n",
    "#     while j < len(l2):\n",
    "#         result.append(l2[j])\n",
    "#         j += 1\n",
    "#     return result"
   ]
  },
  {
   "attachments": {},
   "cell_type": "markdown",
   "metadata": {},
   "source": [
    "## Quicksort\n",
    "\n",
    "Time complexity: linearithmic O(n log n)\n",
    "  \n",
    "- Divide-and-conquer algorithm\n",
    "- Uses recursion to perform sorting\n",
    "- Generally performs better than merge sort\n",
    "- Operates in place on the data\n",
    "- Trade-off is that the worst case scenario is O(n<sup>2</sup>)when data is mostly sorted already"
   ]
  },
  {
   "cell_type": "code",
   "execution_count": 5,
   "metadata": {},
   "outputs": [],
   "source": [
    "def partition(datavalues, first, last):\n",
    "    # choose the first item as the pivot point\n",
    "    pivotvalue = datavalues[first]\n",
    "    # establish the upper and lower indexes\n",
    "    lower = first + 1\n",
    "    upper = last\n",
    "\n",
    "    # start searching for the crossing point\n",
    "    done = False\n",
    "    while not done:\n",
    "        # advance the lower index\n",
    "        while lower <= upper and datavalues[lower] <= pivotvalue:\n",
    "            lower += 1\n",
    "        \n",
    "        # advance the upper index\n",
    "        while datavalues[upper] >= pivotvalue and upper >= lower:\n",
    "            upper -= 1\n",
    "        \n",
    "        # if the two indexes cross, we have found the split point\n",
    "        if upper < lower:\n",
    "            done = True\n",
    "        else:\n",
    "            datavalues[lower], datavalues[upper] = datavalues[upper], datavalues[lower]\n",
    "\n",
    "    # when the split point is found, exchange the pivot value\n",
    "    datavalues[first], datavalues[upper] = datavalues[upper], datavalues[first]\n",
    "\n",
    "    # return the split point index\n",
    "    return upper\n",
    "\n",
    "def quick_sort(dataset, first, last):\n",
    "    if first < last:\n",
    "        # calculate the split point\n",
    "        pivotIdx = partition(dataset, first, last)\n",
    "\n",
    "        # sort the two partitions\n",
    "        quick_sort(dataset, first, pivotIdx-1)\n",
    "        quick_sort(dataset, pivotIdx+1, last)"
   ]
  },
  {
   "cell_type": "markdown",
   "metadata": {},
   "source": [
    "## Compare performance (small dataset)"
   ]
  },
  {
   "cell_type": "code",
   "execution_count": 6,
   "metadata": {},
   "outputs": [
    {
     "name": "stdout",
     "output_type": "stream",
     "text": [
      "Bubble sort:\n",
      "0.002692100000786013\n",
      "Selection sort:\n",
      "0.0027893999995285412\n",
      "Merge sort:\n",
      "0.0053186000004643574\n",
      "Quick sort:\n",
      "0.0028876999995191\n"
     ]
    }
   ],
   "source": [
    "print('Bubble sort:')\n",
    "print(timeit(f'bubble_sort({small_dataset})', 'from __main__ import bubble_sort', number=reruns))\n",
    "\n",
    "print('Selection sort:')\n",
    "print(timeit(f'selection_sort({small_dataset})', 'from __main__ import selection_sort', number=reruns))\n",
    "\n",
    "print('Merge sort:')\n",
    "print(timeit(f'merge_sort({small_dataset})', 'from __main__ import merge_sort', number=reruns))\n",
    "\n",
    "print('Quick sort:')\n",
    "print(timeit(f'quick_sort({small_dataset}, 0, {str(len(eval(small_dataset))-1)})', 'from __main__ import quick_sort', number=reruns))\n"
   ]
  },
  {
   "cell_type": "markdown",
   "metadata": {},
   "source": [
    "## Compare performance (large dataset)"
   ]
  },
  {
   "cell_type": "code",
   "execution_count": 7,
   "metadata": {},
   "outputs": [
    {
     "name": "stdout",
     "output_type": "stream",
     "text": [
      "Bubble sort:\n",
      "0.07317500000044674\n",
      "Selection sort:\n",
      "0.043065199999546167\n",
      "Merge sort:\n",
      "0.05254140000033658\n",
      "Quick sort:\n",
      "0.029609000000164087\n"
     ]
    }
   ],
   "source": [
    "print('Bubble sort:')\n",
    "print(timeit(f'bubble_sort({large_dataset})', 'from __main__ import bubble_sort', number=reruns))\n",
    "\n",
    "print('Selection sort:')\n",
    "print(timeit(f'selection_sort({large_dataset})', 'from __main__ import selection_sort', number=reruns))\n",
    "\n",
    "print('Merge sort:')\n",
    "print(timeit(f'merge_sort({large_dataset})', 'from __main__ import merge_sort', number=reruns))\n",
    "\n",
    "print('Quick sort:')\n",
    "print(timeit(f'quick_sort({large_dataset}, 0, {str(len(eval(large_dataset))-1)})', 'from __main__ import quick_sort', number=reruns))"
   ]
  }
 ],
 "metadata": {
  "kernelspec": {
   "display_name": ".venv",
   "language": "python",
   "name": "python3"
  },
  "language_info": {
   "codemirror_mode": {
    "name": "ipython",
    "version": 3
   },
   "file_extension": ".py",
   "mimetype": "text/x-python",
   "name": "python",
   "nbconvert_exporter": "python",
   "pygments_lexer": "ipython3",
   "version": "3.8.10"
  },
  "orig_nbformat": 4,
  "vscode": {
   "interpreter": {
    "hash": "b391c3d66e7cdcd5c2a5ce5e3c0ae4d73a495d78b8a59ddddcc985ac8a7ff4e9"
   }
  }
 },
 "nbformat": 4,
 "nbformat_minor": 2
}
