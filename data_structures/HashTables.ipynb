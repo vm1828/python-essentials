{
 "cells": [
  {
   "attachments": {},
   "cell_type": "markdown",
   "metadata": {},
   "source": [
    "# Hash Tables"
   ]
  },
  {
   "attachments": {},
   "cell_type": "markdown",
   "metadata": {},
   "source": [
    "A form of associative array which maps keys to their associated values with the help of hash function.  \n",
    "  \n",
    "- key-to-value mappings are unique\n",
    "- hash tables are typically very fast\n",
    "- for small datasets, arrays are usually more efficient, because there won't be any collisions to resolve\n",
    "- hash tables don't order entries in a predicable way"
   ]
  }
 ],
 "metadata": {
  "language_info": {
   "name": "python"
  },
  "orig_nbformat": 4
 },
 "nbformat": 4,
 "nbformat_minor": 2
}
