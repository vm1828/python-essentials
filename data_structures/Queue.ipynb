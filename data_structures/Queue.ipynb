{
 "cells": [
  {
   "attachments": {},
   "cell_type": "markdown",
   "metadata": {},
   "source": [
    "# Queue"
   ]
  },
  {
   "attachments": {},
   "cell_type": "markdown",
   "metadata": {},
   "source": [
    "- FIFO collection that supports adding and removing items (enqueue and dequeue operations)\n",
    "- First item added is the first item out\n",
    "- Can be implemented in 2 ways. If `enqueue` is constant time operation than `dequeue` would be linear time operation, and vice versa. \n",
    "  \n",
    "Practical applications:\n",
    "- Order processing\n",
    "- Messaging"
   ]
  },
  {
   "cell_type": "code",
   "execution_count": 1,
   "metadata": {},
   "outputs": [],
   "source": [
    "# queue example built on top of python list\n",
    "\n",
    "class Queue:\n",
    "    def __init__(self):\n",
    "        self.items = []\n",
    "\n",
    "    def enqueue(self, item):\n",
    "        \"\"\"Inserts the item into the index 0 of the list.\n",
    "        The runtime is linear - O(n).\n",
    "        \"\"\"\n",
    "        self.items.insert(0, item)\n",
    "\n",
    "    def dequeue(self):\n",
    "        \"\"\"Removes and returns the first item in the Queue.\n",
    "        Returns None if Queue is empty.\n",
    "        The runtime is constant - O(1).\n",
    "        \"\"\"\n",
    "        if self.items:\n",
    "            return self.items.pop()\n",
    "        return None\n",
    "\n",
    "    def peek(self):\n",
    "        \"\"\"Returns first item in the Queue.\n",
    "        Returns None if queue is empty.\n",
    "        The runtime is constant - O(1).\n",
    "        \"\"\"\n",
    "        if self.items:\n",
    "            return self.items[-1]\n",
    "        return None\n",
    "\n",
    "    def size(self):\n",
    "        \"\"\"Returns the length of the list that is representing the Queue.\n",
    "        The runtime is constant - O(1).\n",
    "        \"\"\"\n",
    "        return len(self.items)\n",
    "\n",
    "    def is_empty(self):\n",
    "        \"\"\"Returns the boolean value describing whether the queue is empty.\n",
    "        Testing for equality happens in constant time.\n",
    "        \"\"\"\n",
    "        return self.items == []"
   ]
  },
  {
   "attachments": {},
   "cell_type": "markdown",
   "metadata": {},
   "source": [
    "### Double-ended Queue (Deque)"
   ]
  },
  {
   "cell_type": "code",
   "execution_count": 1,
   "metadata": {},
   "outputs": [],
   "source": [
    "class Deque:\n",
    "    def __init__(self):\n",
    "        self.items = []\n",
    "\n",
    "    def add_front(self, item):\n",
    "        \"\"\"Add an item to the front of the deque.\n",
    "        The runtime is linear O(n).\n",
    "        \"\"\"\n",
    "        self.items.insert(0, item)\n",
    "\n",
    "    def add_rear(self, item):\n",
    "        \"\"\"Add an item to the rear of the deque.\n",
    "        The runtime is constant O(1).\n",
    "        \"\"\"\n",
    "        self.items.append(item)\n",
    "\n",
    "    def remove_front(self):\n",
    "        \"\"\"Removes and returns an item from the front of the deque or returns None if the deque is empty.\n",
    "        The runtime is linear O(n).\n",
    "        \"\"\"\n",
    "        if self.items:\n",
    "            return self.items.pop(0)\n",
    "        return None\n",
    "\n",
    "    def remove_rear(self):\n",
    "        \"\"\"Removes and returns an item from the rear of the deque or returns None if the deque is empty.\n",
    "        The runtime is constant O(1).\n",
    "        \"\"\"\n",
    "        if self.items:\n",
    "            return self.items.pop()\n",
    "        return None\n",
    "\n",
    "    def peek_front(self):\n",
    "        \"\"\"Returns an item from the front of the deque or None if the deque is empty.\n",
    "        The runtime is constant O(1).\n",
    "        \"\"\"\n",
    "        if self.items:\n",
    "            return self.items[0]\n",
    "        return None\n",
    "\n",
    "    def peek_rear(self):\n",
    "        \"\"\"Returns an item from the rear of the deque or None if the deque is empty.\n",
    "        The runtime is constant O(1).\n",
    "        \"\"\"\n",
    "        if self.items:\n",
    "            return self.items[-1]\n",
    "        return None\n",
    "\n",
    "    def size(self):\n",
    "        \"\"\"Returns the length of the deque.\n",
    "        The runtime is constant (because python list object keeps track of its length).\n",
    "        \"\"\"\n",
    "        return len(self.items)\n",
    "\n",
    "    def is_empty(self):\n",
    "        \"\"\"Check if the deque is empty.\n",
    "        The runtime is constant O(1).\n",
    "        \"\"\"\n",
    "        return self.items == []"
   ]
  }
 ],
 "metadata": {
  "kernelspec": {
   "display_name": "venv",
   "language": "python",
   "name": "python3"
  },
  "language_info": {
   "codemirror_mode": {
    "name": "ipython",
    "version": 3
   },
   "file_extension": ".py",
   "mimetype": "text/x-python",
   "name": "python",
   "nbconvert_exporter": "python",
   "pygments_lexer": "ipython3",
   "version": "3.8.10"
  },
  "orig_nbformat": 4,
  "vscode": {
   "interpreter": {
    "hash": "0000805b724c1562212277f51ef19a430422aed4b5168dbda158a89ccfc728d6"
   }
  }
 },
 "nbformat": 4,
 "nbformat_minor": 2
}
