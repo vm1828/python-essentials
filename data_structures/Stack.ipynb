{
 "cells": [
  {
   "attachments": {},
   "cell_type": "markdown",
   "metadata": {},
   "source": [
    "# Stack"
   ]
  },
  {
   "attachments": {},
   "cell_type": "markdown",
   "metadata": {},
   "source": [
    "- LIFO collection of items that supports push and pop operations (the last item pushed is the first one popped)\n",
    "- `push` and `pop` are constant time operations (O(1))"
   ]
  },
  {
   "attachments": {},
   "cell_type": "markdown",
   "metadata": {},
   "source": [
    "Practical applications:\n",
    "- Expression processing (e.g. Reverse Polish Notation in stack-oriented programming)\n",
    "- Backtracking (when we need to log most recent events first, e.g. browser back stack)"
   ]
  },
  {
   "cell_type": "code",
   "execution_count": 1,
   "metadata": {},
   "outputs": [],
   "source": [
    "# stack example built on top of python list\n",
    "\n",
    "class Stack:\n",
    "    def __init__(self):\n",
    "        self.items = []\n",
    "\n",
    "    def push(self, item):\n",
    "        \"\"\"Acceptes an item as a parameter and adds it to the stack.\n",
    "        Returns nothing.\n",
    "        The time complexity is O(1) (constant time).\n",
    "        \"\"\"\n",
    "        self.items.append(item)\n",
    "\n",
    "    def pop(self):\n",
    "        \"\"\"Removes and returns the top item of the Stack.\n",
    "        Returns None if stack is empty.\n",
    "        The runtime is constant - O(1).\n",
    "        \"\"\"\n",
    "        if self.items:\n",
    "            return self.items.pop()\n",
    "        return None\n",
    "\n",
    "    def peek(self):\n",
    "        \"\"\"Returns top item of the Stack.\n",
    "        Returns None if stack is empty.\n",
    "        The runtime is constant - O(1).\n",
    "        \"\"\"\n",
    "        if self.items:\n",
    "            return self.items[-1]\n",
    "        return None\n",
    "\n",
    "    def size(self):\n",
    "        \"\"\"Returns the length of the list that is representing the Stack.\n",
    "        The runtime is constant - O(1).\n",
    "        \"\"\"\n",
    "        return len(self.items)\n",
    "\n",
    "    def is_empty(self):\n",
    "        \"\"\"Returns the boolean value describing whether the stack is empty.\n",
    "        Testing for equality happens in constant time.\n",
    "        \"\"\"\n",
    "        return self.items == []"
   ]
  }
 ],
 "metadata": {
  "kernelspec": {
   "display_name": "venv",
   "language": "python",
   "name": "python3"
  },
  "language_info": {
   "codemirror_mode": {
    "name": "ipython",
    "version": 3
   },
   "file_extension": ".py",
   "mimetype": "text/x-python",
   "name": "python",
   "nbconvert_exporter": "python",
   "pygments_lexer": "ipython3",
   "version": "3.8.10 (default, Jun 22 2022, 20:18:18) \n[GCC 9.4.0]"
  },
  "orig_nbformat": 4,
  "vscode": {
   "interpreter": {
    "hash": "0000805b724c1562212277f51ef19a430422aed4b5168dbda158a89ccfc728d6"
   }
  }
 },
 "nbformat": 4,
 "nbformat_minor": 2
}
