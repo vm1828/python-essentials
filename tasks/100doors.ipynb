{
 "cells": [
  {
   "cell_type": "markdown",
   "metadata": {},
   "source": [
    "There are 100 doors in a row that are all initially closed. \n",
    "You make 100 passes by the doors. \n",
    "The first time through, visit every door and  toggle  the door  (if the door is closed,  open it;   if it is open,  close it). \n",
    "The second time, only visit every 2nd door   (door #2, #4, #6, ...),   and toggle it. \n",
    "The third time, visit every 3rd door   (door #3, #6, #9, ...), etc,   until you only visit the 100th door. \n",
    "\n",
    "What state are the doors in after the last pass?   Which are open, which are closed?"
   ]
  },
  {
   "cell_type": "code",
   "execution_count": 1,
   "metadata": {},
   "outputs": [
    {
     "name": "stdout",
     "output_type": "stream",
     "text": [
      "[1, 4, 9, 16, 25, 36, 49, 64, 81, 100]\n"
     ]
    }
   ],
   "source": [
    "doors = [False] * 101\n",
    "\n",
    "for i in range(1,101):\n",
    "    for j in range(i, 101, i):\n",
    "        doors[j] = not doors[j]\n",
    "\n",
    "print([i for i in range(101) if doors[i]])"
   ]
  }
 ],
 "metadata": {
  "kernelspec": {
   "display_name": "Python 3.8.10 ('venv': venv)",
   "language": "python",
   "name": "python3"
  },
  "language_info": {
   "codemirror_mode": {
    "name": "ipython",
    "version": 3
   },
   "file_extension": ".py",
   "mimetype": "text/x-python",
   "name": "python",
   "nbconvert_exporter": "python",
   "pygments_lexer": "ipython3",
   "version": "3.8.10"
  },
  "orig_nbformat": 4,
  "vscode": {
   "interpreter": {
    "hash": "0000805b724c1562212277f51ef19a430422aed4b5168dbda158a89ccfc728d6"
   }
  }
 },
 "nbformat": 4,
 "nbformat_minor": 2
}
