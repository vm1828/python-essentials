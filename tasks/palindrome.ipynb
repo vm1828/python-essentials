{
 "cells": [
  {
   "cell_type": "markdown",
   "metadata": {},
   "source": [
    "# Palindrome"
   ]
  },
  {
   "cell_type": "code",
   "execution_count": 1,
   "metadata": {},
   "outputs": [],
   "source": [
    "import re\n",
    "import string\n",
    "from collections import deque"
   ]
  },
  {
   "cell_type": "markdown",
   "metadata": {},
   "source": [
    "### Simplest built-in solution"
   ]
  },
  {
   "cell_type": "code",
   "execution_count": 2,
   "metadata": {},
   "outputs": [],
   "source": [
    "def remove_punctuation(s: str):\n",
    "    exclist = string.punctuation + string.digits + string.whitespace\n",
    "    return s.translate(str.maketrans('', '', exclist))\n",
    "\n",
    "# def remove_punctuation(s):\n",
    "#     return re.sub(r'\\W+', '', s)"
   ]
  },
  {
   "cell_type": "code",
   "execution_count": 3,
   "metadata": {},
   "outputs": [
    {
     "name": "stdout",
     "output_type": "stream",
     "text": [
      "Thisshouldbewithoutpunctuation\n"
     ]
    }
   ],
   "source": [
    "s = \"This , should be +++ witho'ut /. punctuation\"\n",
    "\n",
    "print(remove_punctuation(s))"
   ]
  },
  {
   "cell_type": "code",
   "execution_count": 4,
   "metadata": {},
   "outputs": [],
   "source": [
    "def is_palindrome(s):\n",
    "    s = remove_punctuation(s).lower()\n",
    "    return s == s[::-1]"
   ]
  },
  {
   "cell_type": "code",
   "execution_count": 5,
   "metadata": {},
   "outputs": [
    {
     "name": "stdout",
     "output_type": "stream",
     "text": [
      "True\n",
      "False\n",
      "True\n"
     ]
    }
   ],
   "source": [
    "print(is_palindrome('Was it a cat I saw?')) # True\n",
    "print(is_palindrome('not a palindrome'))    # False\n",
    "print(is_palindrome(\"Madam I'm Adam\"))      # True"
   ]
  },
  {
   "cell_type": "markdown",
   "metadata": {},
   "source": [
    "### Using custom deque"
   ]
  },
  {
   "cell_type": "code",
   "execution_count": 6,
   "metadata": {},
   "outputs": [],
   "source": [
    "class Deque:\n",
    "    def __init__(self):\n",
    "        self.items = []\n",
    "\n",
    "    def add_front(self, item):\n",
    "        self.items.insert(0, item)\n",
    "\n",
    "    def add_rear(self, item):\n",
    "        self.items.append(item)\n",
    "\n",
    "    def remove_front(self):\n",
    "        if self.items:\n",
    "            return self.items.pop(0)\n",
    "        return None\n",
    "\n",
    "    def remove_rear(self):\n",
    "        if self.items:\n",
    "            return self.items.pop()\n",
    "        return None\n",
    "\n",
    "    def size(self):\n",
    "        return len(self.items)\n",
    "\n",
    "\n",
    "def is_palindrome_custom_deque(s):\n",
    "    if not isinstance(s, str) or len(s) < 2:\n",
    "        return False\n",
    "    deque = Deque()\n",
    "    for char in s:\n",
    "        if char in string.ascii_letters:\n",
    "            deque.add_rear(char.lower())\n",
    "    while deque.size() >= 2:\n",
    "        front_item = deque.remove_front()\n",
    "        rear_item = deque.remove_rear()\n",
    "        if front_item != rear_item:\n",
    "            return False\n",
    "    return True"
   ]
  },
  {
   "cell_type": "code",
   "execution_count": 7,
   "metadata": {},
   "outputs": [
    {
     "name": "stdout",
     "output_type": "stream",
     "text": [
      "True\n",
      "False\n",
      "True\n"
     ]
    }
   ],
   "source": [
    "print(is_palindrome_custom_deque('Was it a cat I saw?')) # True\n",
    "print(is_palindrome_custom_deque('not a palindrome'))    # False\n",
    "print(is_palindrome_custom_deque(\"Madam I'm Adam\"))      # True"
   ]
  },
  {
   "cell_type": "markdown",
   "metadata": {},
   "source": [
    "### Using deque from collections module"
   ]
  },
  {
   "cell_type": "code",
   "execution_count": 8,
   "metadata": {},
   "outputs": [],
   "source": [
    "def is_palindrome_deque_collections(s):\n",
    "    d = deque(remove_punctuation(s.lower()))\n",
    "    while len(d) > 1:\n",
    "        if d.pop() != d.popleft():\n",
    "            return False\n",
    "    return True"
   ]
  },
  {
   "cell_type": "code",
   "execution_count": 9,
   "metadata": {},
   "outputs": [
    {
     "name": "stdout",
     "output_type": "stream",
     "text": [
      "True\n",
      "False\n",
      "True\n"
     ]
    }
   ],
   "source": [
    "print(is_palindrome_deque_collections('Was it a cat I saw?')) # True\n",
    "print(is_palindrome_deque_collections('not a palindrome'))    # False\n",
    "print(is_palindrome_deque_collections(\"Madam I'm Adam\"))      # True"
   ]
  }
 ],
 "metadata": {
  "kernelspec": {
   "display_name": "Python 3.10.4 ('venv': venv)",
   "language": "python",
   "name": "python3"
  },
  "language_info": {
   "codemirror_mode": {
    "name": "ipython",
    "version": 3
   },
   "file_extension": ".py",
   "mimetype": "text/x-python",
   "name": "python",
   "nbconvert_exporter": "python",
   "pygments_lexer": "ipython3",
   "version": "3.10.4"
  },
  "orig_nbformat": 4,
  "vscode": {
   "interpreter": {
    "hash": "7fce5159e63c8f021a147823a4b71fb75e4a5d2969b895e4cbdd02116b2c8958"
   }
  }
 },
 "nbformat": 4,
 "nbformat_minor": 2
}
