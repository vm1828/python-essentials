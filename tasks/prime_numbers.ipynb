{
 "cells": [
  {
   "cell_type": "code",
   "execution_count": 1,
   "metadata": {},
   "outputs": [],
   "source": [
    "from time import time\n",
    "from timeit import timeit\n",
    "\n",
    "n_times = 1000"
   ]
  },
  {
   "cell_type": "code",
   "execution_count": 2,
   "metadata": {},
   "outputs": [
    {
     "data": {
      "text/plain": [
       "0.4092065000004368"
      ]
     },
     "execution_count": 2,
     "metadata": {},
     "output_type": "execute_result"
    }
   ],
   "source": [
    "def find_prime_numbers(max):\n",
    "    result = []    \n",
    "    for i in range(2, max):\n",
    "        for factor in range(2, int(i**0.5)+1):\n",
    "            if not i % factor:\n",
    "                break\n",
    "        else:\n",
    "            result.append(i)\n",
    "    return result\n",
    "\n",
    "timeit('find_prime_numbers(1000)', 'from __main__ import find_prime_numbers', number=n_times)"
   ]
  },
  {
   "cell_type": "code",
   "execution_count": 3,
   "metadata": {},
   "outputs": [
    {
     "data": {
      "text/plain": [
       "0.4785984999980428"
      ]
     },
     "execution_count": 3,
     "metadata": {},
     "output_type": "execute_result"
    }
   ],
   "source": [
    "def is_prime(number):\n",
    "    for factor in range(2, int(number**0.5)+1):\n",
    "        if number % factor == 0:\n",
    "            return False\n",
    "    return True\n",
    "\n",
    "def find_prime_numbers(max):\n",
    "    return [i for i in range(2, max) if is_prime(i)]\n",
    "\n",
    "timeit('find_prime_numbers(1000)', 'from __main__ import find_prime_numbers', number=n_times)"
   ]
  },
  {
   "cell_type": "markdown",
   "metadata": {},
   "source": [
    "The difference in performance caused by additional check 'number % factor == 0' in 2nd example, without it performance would be the same"
   ]
  }
 ],
 "metadata": {
  "kernelspec": {
   "display_name": "Python 3.8.10 ('venv': venv)",
   "language": "python",
   "name": "python3"
  },
  "language_info": {
   "codemirror_mode": {
    "name": "ipython",
    "version": 3
   },
   "file_extension": ".py",
   "mimetype": "text/x-python",
   "name": "python",
   "nbconvert_exporter": "python",
   "pygments_lexer": "ipython3",
   "version": "3.8.10"
  },
  "orig_nbformat": 4,
  "vscode": {
   "interpreter": {
    "hash": "0000805b724c1562212277f51ef19a430422aed4b5168dbda158a89ccfc728d6"
   }
  }
 },
 "nbformat": 4,
 "nbformat_minor": 2
}
