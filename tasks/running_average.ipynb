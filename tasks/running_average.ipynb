{
 "cells": [
  {
   "attachments": {},
   "cell_type": "markdown",
   "metadata": {},
   "source": [
    "# Running Average"
   ]
  },
  {
   "attachments": {},
   "cell_type": "markdown",
   "metadata": {},
   "source": [
    "*avg* function should compute the mean of an ever-growing series of values: every day a new price is added and the average is computed taking into account all prices so far.  \n",
    "  \n",
    "*Example:*  \n",
    "```\n",
    "avg(10)\n",
    "10\n",
    "avg(11)\n",
    "10.5\n",
    "avg(12)\n",
    "11.0\n",
    "```"
   ]
  },
  {
   "attachments": {},
   "cell_type": "markdown",
   "metadata": {},
   "source": [
    "### Class implementation"
   ]
  },
  {
   "cell_type": "code",
   "execution_count": 1,
   "metadata": {},
   "outputs": [
    {
     "name": "stdout",
     "output_type": "stream",
     "text": [
      "10.0\n",
      "10.5\n",
      "11.0\n"
     ]
    }
   ],
   "source": [
    "class Averager():\n",
    "    \n",
    "    def __init__(self):\n",
    "        self.series = []\n",
    "\n",
    "    def __call__(self, new_value):\n",
    "        self.series.append(new_value)\n",
    "        total = sum(self.series)\n",
    "        return total / len(self.series)\n",
    "\n",
    "avg = Averager()\n",
    "\n",
    "print(avg(10))\n",
    "print(avg(11))\n",
    "print(avg(12))"
   ]
  },
  {
   "attachments": {},
   "cell_type": "markdown",
   "metadata": {},
   "source": [
    "### Functional impementation"
   ]
  },
  {
   "cell_type": "code",
   "execution_count": 2,
   "metadata": {},
   "outputs": [
    {
     "name": "stdout",
     "output_type": "stream",
     "text": [
      "10.0\n",
      "10.5\n",
      "11.0\n"
     ]
    }
   ],
   "source": [
    "def make_averager():\n",
    "    series = []\n",
    "\n",
    "    def averager(num):\n",
    "        series.append(num)\n",
    "        total = sum(series)\n",
    "        return total/len(series)\n",
    "\n",
    "    return averager\n",
    "\n",
    "avg = make_averager()\n",
    "\n",
    "print(avg(10))\n",
    "print(avg(11))\n",
    "print(avg(12))"
   ]
  },
  {
   "attachments": {},
   "cell_type": "markdown",
   "metadata": {},
   "source": [
    "When *avg* is called, *make_averager* has already returned and its local scope is gone, but defined there *series* variable still exists as *free variable*.  \n",
    "**Free variable** - a variable that is not bound in the local scope  \n",
    "  \n",
    "The closure for **averager** extends the scope of that function to include the binding for the free variable series."
   ]
  },
  {
   "cell_type": "code",
   "execution_count": 3,
   "metadata": {},
   "outputs": [
    {
     "name": "stdout",
     "output_type": "stream",
     "text": [
      "('num', 'total')\n",
      "('series',)\n"
     ]
    }
   ],
   "source": [
    "print(avg.__code__.co_varnames)\n",
    "print(avg.__code__.co_freevars)"
   ]
  },
  {
   "attachments": {},
   "cell_type": "markdown",
   "metadata": {},
   "source": [
    "The value for series is kept in the \\_\\_closure__ attribute of the returned function avg.  \n",
    "Each item in avg.\\_\\_closure__ corresponds to a name in avg.\\_\\_code__ .co_freevars.  \n",
    "These items are cells, and they have an attribute called cell_con tents where the actual value can be found"
   ]
  },
  {
   "cell_type": "code",
   "execution_count": 4,
   "metadata": {},
   "outputs": [
    {
     "name": "stdout",
     "output_type": "stream",
     "text": [
      "(<cell at 0x7f6be464ed00: list object at 0x7f6be45ff480>,)\n",
      "[10, 11, 12]\n"
     ]
    }
   ],
   "source": [
    "print(avg.__closure__)\n",
    "print(avg.__closure__[0].cell_contents)"
   ]
  },
  {
   "cell_type": "code",
   "execution_count": 5,
   "metadata": {},
   "outputs": [
    {
     "name": "stdout",
     "output_type": "stream",
     "text": [
      "local variable 'count' referenced before assignment\n"
     ]
    }
   ],
   "source": [
    "def make_averager():\n",
    " count = 0\n",
    " total = 0\n",
    " def averager(new_value):\n",
    "    count += 1\n",
    "    total += new_value\n",
    "    return total / count\n",
    " return averager\n",
    "\n",
    "avg = make_averager()\n",
    "\n",
    "try:\n",
    "   avg(10)\n",
    "except Exception as e:\n",
    "   print(e)"
   ]
  },
  {
   "attachments": {},
   "cell_type": "markdown",
   "metadata": {},
   "source": [
    "`count += 1` is the same as `count = count + 1`, so basically we're assigning *local* variable here instead of using *nonlocal*"
   ]
  },
  {
   "cell_type": "code",
   "execution_count": 6,
   "metadata": {},
   "outputs": [
    {
     "name": "stdout",
     "output_type": "stream",
     "text": [
      "10.0\n",
      "10.5\n",
      "11.0\n"
     ]
    }
   ],
   "source": [
    "def make_averager():\n",
    " count = 0\n",
    " total = 0\n",
    "\n",
    " def averager(new_value):\n",
    "    nonlocal count, total\n",
    "    count += 1\n",
    "    total += new_value\n",
    "    return total / count\n",
    "    \n",
    " return averager\n",
    "\n",
    "avg = make_averager()\n",
    "\n",
    "print(avg(10))\n",
    "print(avg(11))\n",
    "print(avg(12))"
   ]
  }
 ],
 "metadata": {
  "kernelspec": {
   "display_name": "venv",
   "language": "python",
   "name": "python3"
  },
  "language_info": {
   "codemirror_mode": {
    "name": "ipython",
    "version": 3
   },
   "file_extension": ".py",
   "mimetype": "text/x-python",
   "name": "python",
   "nbconvert_exporter": "python",
   "pygments_lexer": "ipython3",
   "version": "3.8.10"
  },
  "orig_nbformat": 4,
  "vscode": {
   "interpreter": {
    "hash": "0000805b724c1562212277f51ef19a430422aed4b5168dbda158a89ccfc728d6"
   }
  }
 },
 "nbformat": 4,
 "nbformat_minor": 2
}
