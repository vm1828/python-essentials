{
 "cells": [
  {
   "cell_type": "markdown",
   "metadata": {},
   "source": [
    "# Abstract Classes"
   ]
  },
  {
   "cell_type": "code",
   "execution_count": null,
   "metadata": {},
   "outputs": [],
   "source": [
    "from abc import ABC, abstractmethod\n",
    "\n",
    "\n",
    "class JSONify(ABC):\n",
    "    @abstractmethod\n",
    "    def toJSON(self):\n",
    "        pass\n",
    "\n",
    "\n",
    "class GraphicShape(ABC):\n",
    "    # def __init__(self):\n",
    "    #     super().__init__()\n",
    "\n",
    "    # child classes should have this method implemented, overriding this abstractmethod\n",
    "    @abstractmethod\n",
    "    def calcArea(self):\n",
    "        pass\n",
    "\n",
    "\n",
    "class Circle(GraphicShape, JSONify):\n",
    "    def __init__(self, radius):\n",
    "        self.radius = radius\n",
    "\n",
    "    def calcArea(self):\n",
    "        return 3.14 * (self.radius**2)\n",
    "\n",
    "    def toJSON(self):\n",
    "        return f\"{{\\\"circle\\\": {str(self.calcArea())} }}\"\n",
    "\n",
    "\n",
    "class Square(GraphicShape, JSONify):\n",
    "    def __init__(self, side):\n",
    "        self.side = side\n",
    "\n",
    "    def calcArea(self):\n",
    "        return self.side**2\n",
    "\n",
    "    def toJSON(self):\n",
    "        return f\"{{\\\"square\\\": {str(self.calcArea())} }}\"\n"
   ]
  }
 ],
 "metadata": {
  "kernelspec": {
   "display_name": "Python 3.8.10 ('venv': venv)",
   "language": "python",
   "name": "python3"
  },
  "language_info": {
   "name": "python",
   "version": "3.8.10"
  },
  "orig_nbformat": 4,
  "vscode": {
   "interpreter": {
    "hash": "0000805b724c1562212277f51ef19a430422aed4b5168dbda158a89ccfc728d6"
   }
  }
 },
 "nbformat": 4,
 "nbformat_minor": 2
}
