{
 "cells": [
  {
   "attachments": {},
   "cell_type": "markdown",
   "id": "b1e94c83",
   "metadata": {},
   "source": [
    "# Coroutines"
   ]
  },
  {
   "cell_type": "markdown",
   "id": "a99976c9",
   "metadata": {},
   "source": [
    "### How to define a coroutine?\n",
    "\n",
    "**Coroutine** - a function which can pause and resume its execution.\n",
    "\n",
    "```python\n",
    "async def main():\n",
    "    print(\"Hello\")\n",
    "```"
   ]
  },
  {
   "cell_type": "code",
   "execution_count": 1,
   "id": "c095e6a8",
   "metadata": {},
   "outputs": [],
   "source": [
    "async def main():\n",
    "    print(\"Hello\")"
   ]
  },
  {
   "cell_type": "code",
   "execution_count": 2,
   "id": "6220208c",
   "metadata": {},
   "outputs": [
    {
     "data": {
      "text/plain": [
       "<coroutine object main at 0x7ff2ec5887c0>"
      ]
     },
     "execution_count": 2,
     "metadata": {},
     "output_type": "execute_result"
    }
   ],
   "source": [
    "main()"
   ]
  },
  {
   "cell_type": "markdown",
   "id": "80fe004d",
   "metadata": {},
   "source": [
    "### How to pause execution of coroutine?\n",
    "\n",
    "```python\n",
    "async def main():\n",
    "    await awaitable_object\n",
    "    ...\n",
    "```\n",
    "\n",
    "> Avaitable objects are: **coroutines**, **Tasks** and **Futures**;\n",
    "\n",
    "> **Tasks** are used to scedule coroutines concurrently. When a coroutine is wrapped into a Task with functions like asyncio.create_task(), the coroutine is automatically scheduled to run soon;\n",
    "\n",
    "> A **Future** is a special low-level awaitable object that represents an eventual result of an asynchronous operation;"
   ]
  },
  {
   "cell_type": "markdown",
   "id": "41cfae9a",
   "metadata": {},
   "source": [
    "#### asyncio\n",
    "> allows us to write **concurrent**, **asynchronous**, and **cooperative** code in a sequential style"
   ]
  },
  {
   "cell_type": "markdown",
   "id": "b5829998",
   "metadata": {},
   "source": [
    "### How to execute coroutine?\n",
    "\n",
    "#### Using Event Loop\n",
    "> The event loop is the core of every asyncio application. It runs in a thread (typically the main thread) and executes all callbacks and Tasks in its thread\n",
    "\n",
    "```python\n",
    "import asyncio\n",
    "\n",
    "loop = asyncio.get_event_loop()\n",
    "loop.run_until_complete(my_coroutine())\n",
    "loop.close()\n",
    "```\n",
    "\n",
    "#### A shortcut (since Python 3.7)\n",
    "\n",
    "```python\n",
    "asyncio.run(my_coroutine())\n",
    "```"
   ]
  },
  {
   "cell_type": "code",
   "execution_count": 3,
   "id": "d60d40bb",
   "metadata": {},
   "outputs": [
    {
     "data": {
      "text/plain": [
       "<_UnixSelectorEventLoop running=True closed=False debug=False>"
      ]
     },
     "execution_count": 3,
     "metadata": {},
     "output_type": "execute_result"
    }
   ],
   "source": [
    "import asyncio\n",
    "\n",
    "asyncio.get_event_loop()"
   ]
  },
  {
   "cell_type": "code",
   "execution_count": 4,
   "id": "b95d926b",
   "metadata": {},
   "outputs": [
    {
     "name": "stdout",
     "output_type": "stream",
     "text": [
      "Hello\n"
     ]
    }
   ],
   "source": [
    "# in normal interpreter `running` would be False\n",
    "# jupyter notebook has its own event loop running and we cannot normally execute asyncio.run(my_coroutine()). \n",
    "# Instead we can simply invoke await my_coroutine() even outside async function.\n",
    "\n",
    "await main()\n",
    "# !!!!!! only in Jupyter Notebook !!!!"
   ]
  },
  {
   "cell_type": "markdown",
   "id": "b999ed0f",
   "metadata": {},
   "source": [
    "### How to block coroutine for x seconds?\n",
    "\n",
    "#### Using asyncio.sleep\n",
    "\n",
    "```python\n",
    "async def main():\n",
    "    print('Hello')\n",
    "    await asyncio.sleep(2)\n",
    "    print('world')\n",
    "```"
   ]
  },
  {
   "cell_type": "code",
   "execution_count": 5,
   "id": "5cfbe234",
   "metadata": {},
   "outputs": [],
   "source": [
    "async def main():\n",
    "    print('hello')\n",
    "    await asyncio.sleep(1)\n",
    "    print('world')"
   ]
  },
  {
   "cell_type": "code",
   "execution_count": 6,
   "id": "010d79a5",
   "metadata": {},
   "outputs": [
    {
     "name": "stdout",
     "output_type": "stream",
     "text": [
      "hello\n",
      "world\n"
     ]
    }
   ],
   "source": [
    "await main()\n",
    "# asyncio.run(main()) in normal interpreter"
   ]
  },
  {
   "cell_type": "markdown",
   "id": "d91e897b",
   "metadata": {},
   "source": [
    "### How to execute coroutines concurrently?\n",
    "\n",
    "#### Using asyncio.gather\n",
    "```python\n",
    "\n",
    "import asyncio\n",
    "\n",
    "async def main():\n",
    "    await asyncio.gather(\n",
    "        coro1(),\n",
    "        coro2(),\n",
    "        coro3()\n",
    "    )\n",
    "    \n",
    "asyncio.run(main())\n",
    "```"
   ]
  },
  {
   "cell_type": "code",
   "execution_count": 2,
   "id": "6b4f6b56",
   "metadata": {},
   "outputs": [],
   "source": [
    "import time\n",
    "import asyncio\n",
    "\n",
    "async def display_time():\n",
    "    start_time = time.time()\n",
    "    while True:\n",
    "        dur = int(time.time() - start_time)\n",
    "        if dur % 3 == 0:\n",
    "            print(f\"{dur} seconds have passed...\")\n",
    "        await asyncio.sleep(1)\n",
    "        \n",
    "async def print_nums():\n",
    "    num = 1\n",
    "    while True:\n",
    "        print(num)\n",
    "        num += 1\n",
    "        await asyncio.sleep(0.5)\n",
    "        \n",
    "# in both coroutines we provide some delay and this delay is used for context switching \n",
    "# from one coroutine to another"
   ]
  },
  {
   "cell_type": "code",
   "execution_count": null,
   "id": "932cec70",
   "metadata": {},
   "outputs": [],
   "source": [
    "async def main():\n",
    "    task1 = asyncio.create_task(display_time())\n",
    "    task2 = asyncio.create_task(print_nums())\n",
    "    \n",
    "    await asyncio.gather(task1, task2)"
   ]
  },
  {
   "cell_type": "code",
   "execution_count": null,
   "id": "369f6955",
   "metadata": {},
   "outputs": [
    {
     "name": "stdout",
     "output_type": "stream",
     "text": [
      "0 seconds have passed...\n",
      "1\n",
      "2\n",
      "3\n",
      "4\n",
      "5\n",
      "6\n",
      "3 seconds have passed...\n",
      "7\n",
      "8\n",
      "9\n",
      "10\n",
      "11\n",
      "12\n",
      "6 seconds have passed...\n",
      "13\n",
      "14\n"
     ]
    }
   ],
   "source": [
    "await main()"
   ]
  },
  {
   "cell_type": "markdown",
   "id": "ed7a8c7f",
   "metadata": {},
   "source": [
    "#### For python version < 3.7\n",
    "\n",
    "another way to do this (in normal interpreter)\n",
    "\n",
    "```python\n",
    "async def main():\n",
    "    task1 = asyncio.ensure_future(display_time())\n",
    "    task2 = asyncio.ensure_future(print_nums())\n",
    "    \n",
    "    await asyncio.gather(task1, task2)\n",
    "\n",
    "loop = asyncio.get_event_loop()\n",
    "loop.run_until_complete(main())\n",
    "loop.close()\n",
    "```"
   ]
  },
  {
   "attachments": {},
   "cell_type": "markdown",
   "id": "f2c87892",
   "metadata": {},
   "source": [
    "# Async/await"
   ]
  },
  {
   "attachments": {},
   "cell_type": "markdown",
   "id": "53e3eba0",
   "metadata": {},
   "source": [
    "- **async function does not run itself**\n",
    "```\n",
    "async def my_function(arg):\n",
    "    ...\n",
    "    await something()\n",
    "my_function() # RuntimeWarning: coroutine 'my_function' was never awaited\n",
    "```  \n",
    "  \n",
    "In order to run async function it should be awaited or put in event loop directly:  \n",
    "\n",
    "```\n",
    "import asyncio\n",
    "async def my_function(arg):\n",
    "    ... await something()\n",
    "asyncio.run(my_function())\n",
    "```  \n",
    "  \n",
    "- **we can only await from an async function**\n",
    "- **just awaiting something does not make it async**"
   ]
  }
 ],
 "metadata": {
  "kernelspec": {
   "display_name": ".venv",
   "language": "python",
   "name": "python3"
  },
  "language_info": {
   "codemirror_mode": {
    "name": "ipython",
    "version": 3
   },
   "file_extension": ".py",
   "mimetype": "text/x-python",
   "name": "python",
   "nbconvert_exporter": "python",
   "pygments_lexer": "ipython3",
   "version": "3.8.10"
  },
  "vscode": {
   "interpreter": {
    "hash": "b391c3d66e7cdcd5c2a5ce5e3c0ae4d73a495d78b8a59ddddcc985ac8a7ff4e9"
   }
  }
 },
 "nbformat": 4,
 "nbformat_minor": 5
}
