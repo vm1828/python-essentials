{
 "cells": [
  {
   "attachments": {},
   "cell_type": "markdown",
   "metadata": {},
   "source": [
    "# Bytes"
   ]
  },
  {
   "cell_type": "code",
   "execution_count": 1,
   "metadata": {},
   "outputs": [
    {
     "data": {
      "text/plain": [
       "b'\\x00\\x00\\x00\\x00'"
      ]
     },
     "execution_count": 1,
     "metadata": {},
     "output_type": "execute_result"
    }
   ],
   "source": [
    "# create empty bytes object which is 4 bytes long\n",
    "# each byte is represented as 2-digit hexidecimal number (0-256)\n",
    "bytes(4)"
   ]
  },
  {
   "cell_type": "code",
   "execution_count": 3,
   "metadata": {},
   "outputs": [
    {
     "name": "stdout",
     "output_type": "stream",
     "text": [
      "b'\\xf0\\x9f\\x98\\x8b'\n",
      "😋\n"
     ]
    }
   ],
   "source": [
    "# utf-8 also is used by default\n",
    "encoded_emoji = bytes('😋', 'utf-8')\n",
    "print(encoded_emoji)\n",
    "print(encoded_emoji.decode('utf-8'))"
   ]
  },
  {
   "cell_type": "code",
   "execution_count": 6,
   "metadata": {},
   "outputs": [
    {
     "name": "stdout",
     "output_type": "stream",
     "text": [
      "bytearray(b'\\xf0\\x9f\\x98\\x8b')\n",
      "😅\n"
     ]
    }
   ],
   "source": [
    "# bytes object is immutable\n",
    "# bytes data can be modified using bytearray\n",
    "\n",
    "bytearray_emoji = bytearray('😋', 'utf-8')\n",
    "print(bytearray_emoji)\n",
    "\n",
    "bytearray_emoji[3] = int('85', 16)\n",
    "print(bytearray_emoji.decode())\n"
   ]
  }
 ],
 "metadata": {
  "kernelspec": {
   "display_name": ".venv",
   "language": "python",
   "name": "python3"
  },
  "language_info": {
   "codemirror_mode": {
    "name": "ipython",
    "version": 3
   },
   "file_extension": ".py",
   "mimetype": "text/x-python",
   "name": "python",
   "nbconvert_exporter": "python",
   "pygments_lexer": "ipython3",
   "version": "3.8.10"
  },
  "orig_nbformat": 4,
  "vscode": {
   "interpreter": {
    "hash": "b391c3d66e7cdcd5c2a5ce5e3c0ae4d73a495d78b8a59ddddcc985ac8a7ff4e9"
   }
  }
 },
 "nbformat": 4,
 "nbformat_minor": 2
}
