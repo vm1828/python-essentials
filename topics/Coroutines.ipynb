{
 "cells": [
  {
   "cell_type": "markdown",
   "id": "175d6a39-57cf-44b6-9fe2-98f3353e4d58",
   "metadata": {},
   "source": [
    "# Coroutines"
   ]
  },
  {
   "cell_type": "markdown",
   "id": "b664b344-d795-408e-817e-780c95650348",
   "metadata": {},
   "source": [
    "Generators produce values - Coroutines consume values (may not return anything)"
   ]
  },
  {
   "cell_type": "markdown",
   "id": "1a49c721-3812-49f7-8964-a3d4f644d1c3",
   "metadata": {},
   "source": [
    "Coroutines are not for iterating over sequences. \n",
    "A coroutine is built from a generator (technically a coroutine object is a generator object), but it is conceptually different:\n",
    "a coroutine is designed to repeatedly send input to it, process that input and stop at yield statement."
   ]
  },
  {
   "cell_type": "markdown",
   "id": "e6268b33-c710-4ed0-a7d0-1d11080a5a8e",
   "metadata": {},
   "source": [
    "Coroutine also may sound similar to function, but there is important difference:\n",
    "- function: it's the same function each time it is called\n",
    "- coroutine: persistent properties can be referenced and altered\n",
    "Maintaining and using the state is what a coroutine object does. Similar to function it can be called and produce the value, but its most important ability is to change the state of its own properties, the state of something else or both."
   ]
  },
  {
   "cell_type": "markdown",
   "id": "ce733ae8-faae-4e7d-9654-cebc9ab33407",
   "metadata": {
    "tags": []
   },
   "source": [
    "## send() method"
   ]
  },
  {
   "cell_type": "markdown",
   "id": "22c9dea2-23dc-4ed3-be84-89c45f1e0dfc",
   "metadata": {},
   "source": [
    "send() is a method that was added to generators exclusively for the purpose of coroutine functionality.\n",
    "In coroutines the yield statement is used to capture the value of whatever is passed to the send() method.\n",
    "In the case of coroutines the yield statement is not only in charge of pausing the flow, but also capturing values.\n",
    "(We use yield to generate values in generators and to consume values in coroutines)."
   ]
  },
  {
   "cell_type": "raw",
   "id": "19ad8dd1-d510-47ff-bb99-f8b2e42ed093",
   "metadata": {},
   "source": [
    "To be a coroutine means being an object that supports the send() method in order to receive and process input and maintain internal state."
   ]
  },
  {
   "cell_type": "code",
   "execution_count": 1,
   "id": "68bda139-4a3b-4bae-b1a2-efb2c2b1f06c",
   "metadata": {},
   "outputs": [],
   "source": [
    "def finder(x):\n",
    "  while True:\n",
    "    input_text = yield\n",
    "    if input_text in x:\n",
    "        print(f'{input_text} found in {x}')\n",
    "    else:\n",
    "        print(f'{input_text} not found in {x}')"
   ]
  },
  {
   "cell_type": "code",
   "execution_count": 2,
   "id": "c330b223-c329-4962-904e-7409fcd690d6",
   "metadata": {},
   "outputs": [
    {
     "data": {
      "text/plain": [
       "generator"
      ]
     },
     "execution_count": 2,
     "metadata": {},
     "output_type": "execute_result"
    }
   ],
   "source": [
    "f = finder('California')\n",
    "type(f)           # generator object"
   ]
  },
  {
   "cell_type": "code",
   "execution_count": 3,
   "id": "23faacc0-404f-4f30-980b-5dd56d301912",
   "metadata": {},
   "outputs": [
    {
     "ename": "TypeError",
     "evalue": "can't send non-None value to a just-started generator",
     "output_type": "error",
     "traceback": [
      "\u001b[0;31m---------------------------------------------------------------------------\u001b[0m",
      "\u001b[0;31mTypeError\u001b[0m                                 Traceback (most recent call last)",
      "\u001b[0;32m/tmp/ipykernel_28014/2615891508.py\u001b[0m in \u001b[0;36m<module>\u001b[0;34m\u001b[0m\n\u001b[0;32m----> 1\u001b[0;31m \u001b[0mf\u001b[0m\u001b[0;34m.\u001b[0m\u001b[0msend\u001b[0m\u001b[0;34m(\u001b[0m\u001b[0;34m'Cali'\u001b[0m\u001b[0;34m)\u001b[0m\u001b[0;34m\u001b[0m\u001b[0;34m\u001b[0m\u001b[0m\n\u001b[0m",
      "\u001b[0;31mTypeError\u001b[0m: can't send non-None value to a just-started generator"
     ]
    }
   ],
   "source": [
    "f.send('Cali')"
   ]
  },
  {
   "cell_type": "markdown",
   "id": "bd0a07ef-4295-4760-8250-85d23000db9e",
   "metadata": {},
   "source": [
    "### Priming the coroutine"
   ]
  },
  {
   "cell_type": "markdown",
   "id": "bb34b0fb-8525-4686-8c14-3c54a5b31068",
   "metadata": {},
   "source": [
    "Before start using coroutine we should initialize it (or prime).\n",
    "We can prime it in 2 ways: `next(f)` or `f.send(None)`"
   ]
  },
  {
   "cell_type": "code",
   "execution_count": 4,
   "id": "b20e9832-85b1-45ca-8de3-9e5c8b43853e",
   "metadata": {},
   "outputs": [],
   "source": [
    "next(f)"
   ]
  },
  {
   "cell_type": "code",
   "execution_count": 5,
   "id": "9a8c5510-30ec-4993-af4c-6d4d886ab3ea",
   "metadata": {},
   "outputs": [
    {
     "name": "stdout",
     "output_type": "stream",
     "text": [
      "Cali found in California\n"
     ]
    }
   ],
   "source": [
    "f.send('Cali')"
   ]
  },
  {
   "cell_type": "code",
   "execution_count": 6,
   "id": "5e520614-786d-4ef6-977c-0b486fe1b419",
   "metadata": {},
   "outputs": [
    {
     "name": "stdout",
     "output_type": "stream",
     "text": [
      "asdf not found in California\n"
     ]
    }
   ],
   "source": [
    "f.send('asdf')"
   ]
  },
  {
   "cell_type": "code",
   "execution_count": 7,
   "id": "2fe31078-c1e2-484a-ada9-2b80bce7b265",
   "metadata": {},
   "outputs": [],
   "source": [
    "f.close() # shuts down the coroutine"
   ]
  },
  {
   "cell_type": "code",
   "execution_count": 8,
   "id": "f826e10d-4919-47a9-a56f-5191228e6476",
   "metadata": {},
   "outputs": [
    {
     "ename": "AttributeError",
     "evalue": "Doesn't have to be an AttributeError, can be anything",
     "output_type": "error",
     "traceback": [
      "\u001b[0;31m---------------------------------------------------------------------------\u001b[0m",
      "\u001b[0;31mAttributeError\u001b[0m                            Traceback (most recent call last)",
      "\u001b[0;32m/tmp/ipykernel_28014/2237812278.py\u001b[0m in \u001b[0;36m<module>\u001b[0;34m\u001b[0m\n\u001b[1;32m      1\u001b[0m \u001b[0;31m# also we can throw exception\u001b[0m\u001b[0;34m\u001b[0m\u001b[0;34m\u001b[0m\u001b[0;34m\u001b[0m\u001b[0m\n\u001b[0;32m----> 2\u001b[0;31m \u001b[0mf\u001b[0m\u001b[0;34m.\u001b[0m\u001b[0mthrow\u001b[0m\u001b[0;34m(\u001b[0m\u001b[0mAttributeError\u001b[0m\u001b[0;34m,\u001b[0m \u001b[0;34m\"Doesn't have to be an AttributeError, can be anything\"\u001b[0m\u001b[0;34m)\u001b[0m\u001b[0;34m\u001b[0m\u001b[0;34m\u001b[0m\u001b[0m\n\u001b[0m",
      "\u001b[0;31mAttributeError\u001b[0m: Doesn't have to be an AttributeError, can be anything"
     ]
    }
   ],
   "source": [
    "# also we can throw exception\n",
    "f.throw(AttributeError, \"Doesn't have to be an AttributeError, can be anything\")"
   ]
  },
  {
   "cell_type": "markdown",
   "id": "1d612d3a-9c97-4d21-9ba7-cf8e0ead3c68",
   "metadata": {},
   "source": [
    "### Example 1"
   ]
  },
  {
   "cell_type": "code",
   "execution_count": 9,
   "id": "066dcac8-1a75-4d77-9758-f0cd84e1e71f",
   "metadata": {},
   "outputs": [
    {
     "name": "stdout",
     "output_type": "stream",
     "text": [
      "Cali\n",
      "nia\n",
      "No match\n",
      "Not a string\n",
      "2\n"
     ]
    }
   ],
   "source": [
    "def counter(string):\n",
    "    count = 0\n",
    "    try:\n",
    "        while True:\n",
    "            item = yield\n",
    "            if isinstance(item, str):\n",
    "                if item in string:\n",
    "                    count += 1\n",
    "                    print(item)\n",
    "                else:\n",
    "                    print('No match')\n",
    "            else:\n",
    "                print('Not a string')\n",
    "    except GeneratorExit:\n",
    "        print(count)\n",
    "        \n",
    "c = counter('California')\n",
    "next(c)\n",
    "c.send('Cali')  # Cali\n",
    "c.send('nia')   # nia\n",
    "c.send('Hawaii')# No match\n",
    "c.send(1234)    # Not a string\n",
    "c.close()       # 2"
   ]
  },
  {
   "cell_type": "markdown",
   "id": "d4c0cb42-cfd0-4490-8bec-7199c2d49335",
   "metadata": {},
   "source": [
    "## Priming coroutine using decorator"
   ]
  },
  {
   "cell_type": "code",
   "execution_count": 10,
   "id": "e51e158f-ead1-4590-bca0-499beaaf0700",
   "metadata": {},
   "outputs": [],
   "source": [
    "def coroutine_decorator(func):\n",
    "    def wrapper(*args, **kwargs):\n",
    "        cr = func(*args, **kwargs)\n",
    "        next(cr)\n",
    "        return cr\n",
    "    return wrapper"
   ]
  },
  {
   "cell_type": "code",
   "execution_count": 11,
   "id": "d0735328-f088-45d6-99c4-39690d2d0798",
   "metadata": {},
   "outputs": [],
   "source": [
    "@coroutine_decorator\n",
    "def coroutine_example():\n",
    "    while True:\n",
    "        x = yield\n",
    "        # do something with x\n",
    "        print(x)"
   ]
  },
  {
   "cell_type": "code",
   "execution_count": 12,
   "id": "80d77c36-5dfa-487d-9768-f88f85f7adcd",
   "metadata": {},
   "outputs": [
    {
     "name": "stdout",
     "output_type": "stream",
     "text": [
      "asdf\n"
     ]
    }
   ],
   "source": [
    "c = coroutine_example()\n",
    "c.send('asdf')"
   ]
  },
  {
   "cell_type": "markdown",
   "id": "64086f98-b32b-425a-b878-96d20ce9bbd2",
   "metadata": {},
   "source": [
    "## Consume values with send() method"
   ]
  },
  {
   "cell_type": "code",
   "execution_count": 13,
   "id": "32f22a21-3558-4408-a4de-89d10aa7f13b",
   "metadata": {},
   "outputs": [],
   "source": [
    "def sender(filename, cr):\n",
    "    for line in open(filename):\n",
    "        cr.send(line)\n",
    "    cr.close()"
   ]
  },
  {
   "cell_type": "code",
   "execution_count": 14,
   "id": "66b54203-74fe-4d49-8674-961d962b59f8",
   "metadata": {},
   "outputs": [],
   "source": [
    "@coroutine_decorator\n",
    "def match_counter(string):\n",
    "    count = 0\n",
    "    try:\n",
    "        while True:\n",
    "            line = yield\n",
    "            if string in line:\n",
    "                count += 1\n",
    "    except GeneratorExit:\n",
    "        print(f'{string}: {count}')"
   ]
  },
  {
   "cell_type": "code",
   "execution_count": 15,
   "id": "88a582e0-abc4-4a31-8a16-662967755fb4",
   "metadata": {},
   "outputs": [
    {
     "name": "stdout",
     "output_type": "stream",
     "text": [
      "Da: 5\n"
     ]
    }
   ],
   "source": [
    "c = match_counter('Da')\n",
    "sender('coroutines_files/names.txt', c)"
   ]
  },
  {
   "cell_type": "code",
   "execution_count": 16,
   "id": "5282892f-6801-4e0d-9843-5c2182615415",
   "metadata": {},
   "outputs": [],
   "source": [
    "@coroutine_decorator\n",
    "def longer_than(n):\n",
    "    count = 0\n",
    "    try:\n",
    "        while True:\n",
    "            line = yield\n",
    "            if len(line) > n:\n",
    "                print(line)\n",
    "                count += 1\n",
    "    except GeneratorExit:\n",
    "        print(f'{count} lines longer than {n} characters')"
   ]
  },
  {
   "cell_type": "code",
   "execution_count": 17,
   "id": "8e6a57df-6793-4d8c-990e-48e89ba3c6bb",
   "metadata": {},
   "outputs": [
    {
     "name": "stdout",
     "output_type": "stream",
     "text": [
      "joLahoma Mondragon\n",
      "\n",
      "Tanesha Finkbeiner\n",
      "\n",
      "Brittanie Talamantes\n",
      "\n",
      "3 lines longer than 18 characters\n"
     ]
    }
   ],
   "source": [
    "l = longer_than(18)\n",
    "sender('coroutines_files/names.txt', l)"
   ]
  },
  {
   "cell_type": "markdown",
   "id": "0a2268b1-aa3e-4c13-914a-cf302d5a1147",
   "metadata": {},
   "source": [
    "## Coroutine pipelines"
   ]
  },
  {
   "cell_type": "code",
   "execution_count": 18,
   "id": "b7c56795-8a5e-4464-a0ac-8ea08f9cead9",
   "metadata": {},
   "outputs": [],
   "source": [
    "@coroutine_decorator\n",
    "def router():\n",
    "    try:\n",
    "        while True:\n",
    "            line = yield\n",
    "            first, last = line.split(' ')\n",
    "            fnames.send(first)\n",
    "            lnames.send(last.strip())\n",
    "    except GeneratorExit:\n",
    "        fnames.close()\n",
    "        lnames.close()"
   ]
  },
  {
   "cell_type": "code",
   "execution_count": 19,
   "id": "3fbf771c-4da0-4367-b4fe-40f4d42e21e8",
   "metadata": {},
   "outputs": [],
   "source": [
    "@coroutine_decorator\n",
    "def file_write(filename):\n",
    "    try:\n",
    "        with open(filename, 'a') as f:\n",
    "            while True:\n",
    "                line = yield\n",
    "                f.write(line+'\\n')\n",
    "    except GeneratorExit:\n",
    "        f.close()\n",
    "        print('file created')"
   ]
  },
  {
   "cell_type": "code",
   "execution_count": 20,
   "id": "da460315-d06b-4938-8c6e-115f8b581c49",
   "metadata": {},
   "outputs": [
    {
     "name": "stdout",
     "output_type": "stream",
     "text": [
      "file created\n",
      "file created\n"
     ]
    }
   ],
   "source": [
    "fnames = file_write('coroutines_files/first_names.txt')\n",
    "lnames = file_write('coroutines_files/last_names.txt')\n",
    "router = router()\n",
    "for line in open('coroutines_files/names.txt'):\n",
    "    router.send(line)\n",
    "router.close()"
   ]
  }
 ],
 "metadata": {
  "kernelspec": {
   "display_name": "Python 3.8.10 64-bit",
   "language": "python",
   "name": "python3"
  },
  "language_info": {
   "codemirror_mode": {
    "name": "ipython",
    "version": 3
   },
   "file_extension": ".py",
   "mimetype": "text/x-python",
   "name": "python",
   "nbconvert_exporter": "python",
   "pygments_lexer": "ipython3",
   "version": "3.8.10"
  },
  "vscode": {
   "interpreter": {
    "hash": "916dbcbb3f70747c44a77c7bcd40155683ae19c65e1c03b4aa3499c5328201f1"
   }
  }
 },
 "nbformat": 4,
 "nbformat_minor": 5
}
