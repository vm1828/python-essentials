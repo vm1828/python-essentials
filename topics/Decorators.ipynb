{
 "cells": [
  {
   "attachments": {},
   "cell_type": "markdown",
   "metadata": {},
   "source": [
    "# Scope"
   ]
  },
  {
   "cell_type": "code",
   "execution_count": 1,
   "metadata": {},
   "outputs": [
    {
     "name": "stdout",
     "output_type": "stream",
     "text": [
      "a\n",
      "local variable 'b' referenced before assignment\n"
     ]
    }
   ],
   "source": [
    "# When Python compiles the body of the function, it decides that b is a local variable because it is assigned within the function\n",
    "\n",
    "b = 'b'\n",
    "\n",
    "def f1(a):\n",
    "    print(a)\n",
    "    print(b)\n",
    "    b = 1\n",
    "\n",
    "try:\n",
    "    f1('a')\n",
    "except Exception as e:\n",
    "    print(e)\n"
   ]
  },
  {
   "cell_type": "code",
   "execution_count": 2,
   "metadata": {},
   "outputs": [
    {
     "name": "stdout",
     "output_type": "stream",
     "text": [
      "a\n",
      "b\n"
     ]
    }
   ],
   "source": [
    "# to fix this we can use global declaration\n",
    "\n",
    "b = 'b'\n",
    "\n",
    "def f2(a):\n",
    "    global b\n",
    "    print(a)\n",
    "    print(b)\n",
    "    b = 1\n",
    "\n",
    "f2('a')"
   ]
  },
  {
   "attachments": {},
   "cell_type": "markdown",
   "metadata": {},
   "source": [
    "# Closure"
   ]
  },
  {
   "attachments": {},
   "cell_type": "markdown",
   "metadata": {},
   "source": [
    "Closures is what we get when functions capture variables defined outside of their bodies.  \n",
    "  \n",
    "**Closure** is a function *f* with an extended scope that encompases variables referenced in the body of *f* that are not global variables or local variables of *f*  \n",
    "  \n",
    "Closures allow us to preserve state while using functional approach (see [running average](../tasks/running_average.ipynb))"
   ]
  },
  {
   "attachments": {},
   "cell_type": "markdown",
   "metadata": {},
   "source": [
    "# Variable Lookup Logic"
   ]
  },
  {
   "attachments": {},
   "cell_type": "markdown",
   "metadata": {},
   "source": [
    "- if there is a *global x* declaration, *x* comes from and is assigned to module global variable *x* (python does not have a program global scope, only module global scopes)\n",
    "- if there is a *nonlocal x* declaration, *x* comes from and is assigned to local variable *x* of the nearest surrounding function where *x* is defined\n",
    "- if *x* is a parameter or is assigned a value in the function body, the *x* is the local variable\n",
    "- if *x* is referenced but is not assigned and is not a parameter:\n",
    "    - *x* will be looked up in the local scopes of the surrounding function bodies (nonlocal scopes)\n",
    "    - if not found in surrounding scopes, it will be read from the module global scope\n",
    "    - if not found in the global scope, it will be read from \\_\\_builtins__.__dict__."
   ]
  },
  {
   "cell_type": "markdown",
   "metadata": {},
   "source": [
    "# Decorators"
   ]
  },
  {
   "cell_type": "markdown",
   "metadata": {},
   "source": [
    "A decorator is a callable that takes another function as an argument, \n",
    "extending the behavior of that function without explicitly modifying that function\n",
    "\n",
    "https://dev.to/apcelent/python-decorator-tutorial-with-example-529f#"
   ]
  },
  {
   "attachments": {},
   "cell_type": "markdown",
   "metadata": {},
   "source": [
    "```\n",
    "@decorator\n",
    "def target():\n",
    "    ...\n",
    "```\n",
    "the same as:\n",
    "\n",
    "```\n",
    "target = decorator(target)\n",
    "```\n",
    "\n",
    "Decorator function is executed when decorated function is defined (at import time as soon as the module is imported)."
   ]
  },
  {
   "cell_type": "markdown",
   "metadata": {},
   "source": [
    "## Function decorator"
   ]
  },
  {
   "cell_type": "code",
   "execution_count": 3,
   "metadata": {},
   "outputs": [
    {
     "name": "stdout",
     "output_type": "stream",
     "text": [
      "1.0\n",
      "Zero division error\n"
     ]
    }
   ],
   "source": [
    "def handleException(func):\n",
    "    def wrapper(*args):\n",
    "        try:\n",
    "            return func(*args)\n",
    "        except TypeError:\n",
    "            print('Type error')\n",
    "        except ZeroDivisionError:\n",
    "            print('Zero division error')\n",
    "        except:\n",
    "            print('Some error')\n",
    "    return wrapper\n",
    "\n",
    "@handleException\n",
    "def causeError(n):\n",
    "    return 1/n\n",
    "\n",
    "# @handleException - shortcut for:\n",
    "# causeError = handleException(causeError)\n",
    "\n",
    "print(causeError(1))\n",
    "causeError(0)"
   ]
  },
  {
   "cell_type": "code",
   "execution_count": 4,
   "metadata": {},
   "outputs": [
    {
     "data": {
      "text/plain": [
       "'function output'"
      ]
     },
     "execution_count": 4,
     "metadata": {},
     "output_type": "execute_result"
    }
   ],
   "source": [
    "from functools import wraps\n",
    "\n",
    "def my_decorator(func):\n",
    "  @wraps(func)              # to preserve func name and docstring\n",
    "  def wrapper(*args, **kwargs):\n",
    "    # do something before\n",
    "    result = func(*args, **kwargs)\n",
    "    # do something after\n",
    "    return result\n",
    "  return wrapper\n",
    "\n",
    "@my_decorator  \n",
    "def func():\n",
    "  return 'function output'\n",
    "  \n",
    "# equivalent to\n",
    "func = my_decorator(func)\n",
    "\n",
    "func()"
   ]
  },
  {
   "cell_type": "markdown",
   "metadata": {},
   "source": [
    "## Class decorator"
   ]
  },
  {
   "cell_type": "code",
   "execution_count": 5,
   "metadata": {},
   "outputs": [
    {
     "name": "stdout",
     "output_type": "stream",
     "text": [
      "Current count: 1\n",
      "Current count: 2\n",
      "Current count: 3\n",
      "Current count: 4\n",
      "Current count: 5\n",
      "Current count: 6\n",
      "Current count: 7\n",
      "Current count: 8\n",
      "Current count: 9\n"
     ]
    },
    {
     "data": {
      "text/plain": [
       "3"
      ]
     },
     "execution_count": 5,
     "metadata": {},
     "output_type": "execute_result"
    }
   ],
   "source": [
    "from functools import update_wrapper\n",
    "\n",
    "class Count():\n",
    "  def __init__(self, func):\n",
    "    update_wrapper(self, func)          # for correct docstring and name of the function\n",
    "    self.func = func\n",
    "    self.cnt = 0\n",
    "  def __call__(self, *args, **kwargs):\n",
    "    self.cnt += 1\n",
    "    print(f\"Current count: {self.cnt}\")\n",
    "    result = self.func(*args, **kwargs)\n",
    "    return result\n",
    "\n",
    "@Count\n",
    "def fib(n):\n",
    "  if n < 2:\n",
    "    return n\n",
    "  else:\n",
    "    return fib(n-1) + fib(n-2)\n",
    "\n",
    "fib(4)      # 9 calls bcz we are not caching values and calculate many of them several times during recursive execution"
   ]
  },
  {
   "cell_type": "code",
   "execution_count": 6,
   "metadata": {},
   "outputs": [
    {
     "name": "stdout",
     "output_type": "stream",
     "text": [
      "Current count: 1\n",
      "Current count: 2\n",
      "Current count: 3\n",
      "Current count: 4\n",
      "Current count: 5\n"
     ]
    },
    {
     "data": {
      "text/plain": [
       "3"
      ]
     },
     "execution_count": 6,
     "metadata": {},
     "output_type": "execute_result"
    }
   ],
   "source": [
    "# for caching we can use lru_cache from functools\n",
    "\n",
    "from functools import wraps, lru_cache\n",
    "\n",
    "@lru_cache(maxsize=None)\n",
    "@Count\n",
    "def fib(n):\n",
    "  if n < 2:\n",
    "    return n\n",
    "  else:\n",
    "    return fib(n-1) + fib(n-2)\n",
    "\n",
    "fib(4)"
   ]
  },
  {
   "attachments": {},
   "cell_type": "markdown",
   "metadata": {},
   "source": [
    "# Parametrized decorator"
   ]
  },
  {
   "cell_type": "code",
   "execution_count": 7,
   "metadata": {},
   "outputs": [
    {
     "name": "stdout",
     "output_type": "stream",
     "text": [
      "registry -> []\n",
      "Running register(<function f1 at 0x7fc89179d940>)\n",
      "Running f1()\n",
      "registry -> [<function f1 at 0x7fc89179d940>]\n"
     ]
    }
   ],
   "source": [
    "registry = []\n",
    "print('registry ->', registry)\n",
    "\n",
    "def register(func):\n",
    "    print(f'Running register({func})')\n",
    "    registry.append(func)\n",
    "    return func\n",
    "\n",
    "@register\n",
    "def f1():\n",
    "    print('Running f1()')\n",
    "\n",
    "f1()\n",
    "print('registry ->', registry)"
   ]
  },
  {
   "cell_type": "code",
   "execution_count": 8,
   "metadata": {},
   "outputs": [
    {
     "name": "stdout",
     "output_type": "stream",
     "text": [
      "Running register(active=False) -> decorate(<function f1 at 0x7fc89179dd30>)\n",
      "Running register(active=True) -> decorate(<function f2 at 0x7fc89179d940>)\n",
      "Running register(active=True) -> decorate(<function f3 at 0x7fc891feca60>)\n",
      "{<function f2 at 0x7fc89179d940>, <function f3 at 0x7fc891feca60>}\n"
     ]
    }
   ],
   "source": [
    "registry = set()\n",
    "\n",
    "def register(active=True):\n",
    "    def wrapper(func):\n",
    "        print(f'Running register(active={active}) -> decorate({func})')\n",
    "        registry.add(func) if active else registry.discard(func)\n",
    "        return func\n",
    "    return wrapper\n",
    "\n",
    "@register(active=False)\n",
    "def f1():\n",
    "    print('running f1()')\n",
    "\n",
    "@register()\n",
    "def f2():\n",
    "    print('running f2()')\n",
    "\n",
    "def f3():\n",
    "    print('running f3()')\n",
    "register()(f3)\n",
    "\n",
    "print(registry)"
   ]
  },
  {
   "cell_type": "code",
   "execution_count": 13,
   "metadata": {},
   "outputs": [
    {
     "name": "stdout",
     "output_type": "stream",
     "text": [
      "[0.10020330] snooze(0.1) -> None\n",
      "[0.10018390] snooze(0.1) -> None\n",
      "[0.10018970] snooze(0.1) -> None\n",
      "-----------------------\n",
      "snooze: 0.100186s\n",
      "snooze: 0.100207s\n",
      "snooze: 0.100167s\n"
     ]
    }
   ],
   "source": [
    "import time\n",
    "\n",
    "DEFAULT_FMT = '[{elapsed:0.8f}] {name}({args}) -> {result}'\n",
    "\n",
    "def clock(fmt=DEFAULT_FMT):\n",
    "    def outer_wrapper(func):\n",
    "        def inner_wrapper(*_args):\n",
    "            t0 = time.perf_counter()\n",
    "            _result = func(*_args)\n",
    "            elapsed = time.perf_counter() - t0\n",
    "            name = func.__name__\n",
    "            args = ', '.join(repr(arg) for arg in _args)\n",
    "            result = repr(_result)\n",
    "            print(fmt.format(**locals()))\n",
    "            return _result\n",
    "        return inner_wrapper\n",
    "    return outer_wrapper\n",
    "\n",
    "@clock()\n",
    "def snooze(seconds):\n",
    "    time.sleep(seconds)\n",
    "\n",
    "for _ in range(3):\n",
    "    snooze(0.1)\n",
    "\n",
    "print('-----------------------')\n",
    "\n",
    "@clock('{name}: {elapsed:.6f}s')\n",
    "def snooze(seconds):\n",
    "    time.sleep(seconds)\n",
    "\n",
    "for _ in range(3):\n",
    "    snooze(0.1)"
   ]
  },
  {
   "cell_type": "code",
   "execution_count": 14,
   "metadata": {},
   "outputs": [
    {
     "name": "stdout",
     "output_type": "stream",
     "text": [
      "[0.10026790] snooze(0.1) -> None\n",
      "[0.10017260] snooze(0.1) -> None\n",
      "[0.10017060] snooze(0.1) -> None\n",
      "-----------------------\n",
      "snooze: 0.100199s\n",
      "snooze: 0.100175s\n",
      "snooze: 0.100162s\n"
     ]
    }
   ],
   "source": [
    "import time\n",
    "\n",
    "DEFAULT_FMT = '[{elapsed:0.8f}] {name}({args}) -> {result}'\n",
    "\n",
    "class clock:\n",
    "    def __init__(self, fmt=DEFAULT_FMT):\n",
    "        self.fmt = fmt\n",
    "\n",
    "    def __call__(self, func):\n",
    "        def wrapper(*_args):\n",
    "            t0 = time.perf_counter()\n",
    "            _result = func(*_args)\n",
    "            elapsed = time.perf_counter() - t0\n",
    "            name = func.__name__\n",
    "            args = ', '.join(repr(arg) for arg in _args)\n",
    "            result = repr(_result)\n",
    "            print(self.fmt.format(**locals()))\n",
    "            return _result\n",
    "        return wrapper\n",
    "\n",
    "@clock()\n",
    "def snooze(seconds):\n",
    "    time.sleep(seconds)\n",
    "\n",
    "for _ in range(3):\n",
    "    snooze(0.1)\n",
    "\n",
    "print('-----------------------')\n",
    "\n",
    "@clock('{name}: {elapsed:.6f}s')\n",
    "def snooze(seconds):\n",
    "    time.sleep(seconds)\n",
    "\n",
    "for _ in range(3):\n",
    "    snooze(0.1)"
   ]
  }
 ],
 "metadata": {
  "kernelspec": {
   "display_name": ".venv",
   "language": "python",
   "name": "python3"
  },
  "language_info": {
   "codemirror_mode": {
    "name": "ipython",
    "version": 3
   },
   "file_extension": ".py",
   "mimetype": "text/x-python",
   "name": "python",
   "nbconvert_exporter": "python",
   "pygments_lexer": "ipython3",
   "version": "3.8.10"
  },
  "orig_nbformat": 4,
  "vscode": {
   "interpreter": {
    "hash": "b391c3d66e7cdcd5c2a5ce5e3c0ae4d73a495d78b8a59ddddcc985ac8a7ff4e9"
   }
  }
 },
 "nbformat": 4,
 "nbformat_minor": 2
}
