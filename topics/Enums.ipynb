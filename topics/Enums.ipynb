{
 "cells": [
  {
   "cell_type": "markdown",
   "metadata": {},
   "source": [
    "# Enums"
   ]
  },
  {
   "cell_type": "code",
   "execution_count": 1,
   "metadata": {},
   "outputs": [
    {
     "name": "stdout",
     "output_type": "stream",
     "text": [
      "Fruit.APPLE\n",
      "<enum 'Fruit'>\n",
      "<Fruit.APPLE: 1>\n",
      "APPLE 1\n",
      "4\n"
     ]
    }
   ],
   "source": [
    "from enum import Enum, unique, auto\n",
    "\n",
    "@unique\n",
    "class Fruit(Enum):\n",
    "  APPLE = 1\n",
    "  BANANA = 2\n",
    "  ORANGE = 3\n",
    "  TOMATO = auto()\n",
    "  \n",
    "print(Fruit.APPLE)          # Fruit.APPLE\n",
    "print(type(Fruit.APPLE))    # <enum 'Fruit'>\n",
    "print(repr(Fruit.APPLE))    # <Fruit.APPLE: 1>\n",
    "print(Fruit.APPLE.name, Fruit.APPLE.value)  # APPLE 1\n",
    "print(Fruit.TOMATO.value)   # 4\n",
    "\n",
    "# in enums names should be unique, but not values\n",
    "# we can also enforce values to be unique using @unique decorator for enum class"
   ]
  }
 ],
 "metadata": {
  "kernelspec": {
   "display_name": "Python 3.8.10 ('venv': venv)",
   "language": "python",
   "name": "python3"
  },
  "language_info": {
   "codemirror_mode": {
    "name": "ipython",
    "version": 3
   },
   "file_extension": ".py",
   "mimetype": "text/x-python",
   "name": "python",
   "nbconvert_exporter": "python",
   "pygments_lexer": "ipython3",
   "version": "3.8.10"
  },
  "orig_nbformat": 4,
  "vscode": {
   "interpreter": {
    "hash": "0000805b724c1562212277f51ef19a430422aed4b5168dbda158a89ccfc728d6"
   }
  }
 },
 "nbformat": 4,
 "nbformat_minor": 2
}
