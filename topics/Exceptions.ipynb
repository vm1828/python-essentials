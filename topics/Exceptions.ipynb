{
 "cells": [
  {
   "cell_type": "markdown",
   "metadata": {},
   "source": [
    "# Exceptions"
   ]
  },
  {
   "cell_type": "code",
   "execution_count": 1,
   "metadata": {},
   "outputs": [
    {
     "name": "stdout",
     "output_type": "stream",
     "text": [
      "Status code: 500; Message: Internal server error\n"
     ]
    }
   ],
   "source": [
    "class HttpException(Exception):\n",
    "    status = None\n",
    "    message = None\n",
    "    \n",
    "    def __init__(self):\n",
    "        super().__init__(f'Status code: {self.status}; Message: {self.message}')\n",
    "\n",
    "class NotFoundError(HttpException):\n",
    "    status = 404\n",
    "    message = 'Resource not found'\n",
    "\n",
    "class InternalServerError(HttpException):\n",
    "    status = 500\n",
    "    message = 'Internal server error'\n",
    "\n",
    "try:\n",
    "    raise InternalServerError\n",
    "except Exception as e:\n",
    "    print(e)"
   ]
  },
  {
   "cell_type": "code",
   "execution_count": 2,
   "metadata": {},
   "outputs": [
    {
     "name": "stdout",
     "output_type": "stream",
     "text": [
      "ArithmeticError\n"
     ]
    }
   ],
   "source": [
    "# What will be printed?\n",
    "\n",
    "def handle_exception(func):\n",
    "    def wrapper(*args, **kwargs):\n",
    "        try:\n",
    "            func(*args, **kwargs)\n",
    "        except ArithmeticError:\n",
    "            print('ArithmeticError')\n",
    "        except Exception:\n",
    "            print('Exception')\n",
    "        except ZeroDivisionError:\n",
    "            print('ZeroDivisionError')\n",
    "    return wrapper\n",
    "    \n",
    "@handle_exception\n",
    "def cause_zero_division_error():\n",
    "    1/0\n",
    "\n",
    "cause_zero_division_error()"
   ]
  }
 ],
 "metadata": {
  "kernelspec": {
   "display_name": "Python 3.8.10 64-bit",
   "language": "python",
   "name": "python3"
  },
  "language_info": {
   "codemirror_mode": {
    "name": "ipython",
    "version": 3
   },
   "file_extension": ".py",
   "mimetype": "text/x-python",
   "name": "python",
   "nbconvert_exporter": "python",
   "pygments_lexer": "ipython3",
   "version": "3.8.10"
  },
  "orig_nbformat": 4,
  "vscode": {
   "interpreter": {
    "hash": "916dbcbb3f70747c44a77c7bcd40155683ae19c65e1c03b4aa3499c5328201f1"
   }
  }
 },
 "nbformat": 4,
 "nbformat_minor": 2
}
