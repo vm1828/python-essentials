{
 "cells": [
  {
   "attachments": {},
   "cell_type": "markdown",
   "metadata": {},
   "source": [
    "# Functions"
   ]
  },
  {
   "cell_type": "code",
   "execution_count": 2,
   "metadata": {},
   "outputs": [
    {
     "name": "stdout",
     "output_type": "stream",
     "text": [
      "('x',)\n",
      "b'd\\x01}\\x00|\\x00S\\x00'\n"
     ]
    }
   ],
   "source": [
    "def func():\n",
    "    x = 5\n",
    "    return x\n",
    "\n",
    "print(func.__code__.co_varnames) # variables\n",
    "print(func.__code__.co_code) # bytecode"
   ]
  },
  {
   "cell_type": "code",
   "execution_count": 8,
   "metadata": {},
   "outputs": [
    {
     "name": "stdout",
     "output_type": "stream",
     "text": [
      "some text with punctuation\n"
     ]
    }
   ],
   "source": [
    "# creating pipeline for processing\n",
    "\n",
    "import string\n",
    "\n",
    "def lowercase(text: str) -> str:\n",
    "    return text.lower()\n",
    "\n",
    "def remove_punctuation(text) -> str:\n",
    "    return text.translate(str.maketrans('', '', string.punctuation))\n",
    "\n",
    "pipeline = [lowercase, remove_punctuation]\n",
    "\n",
    "text = 'Some Text ##with punctuation....;;;$??))'\n",
    "\n",
    "for function in pipeline:\n",
    "    text = function(text)\n",
    "\n",
    "print(text)\n"
   ]
  }
 ],
 "metadata": {
  "kernelspec": {
   "display_name": ".venv",
   "language": "python",
   "name": "python3"
  },
  "language_info": {
   "codemirror_mode": {
    "name": "ipython",
    "version": 3
   },
   "file_extension": ".py",
   "mimetype": "text/x-python",
   "name": "python",
   "nbconvert_exporter": "python",
   "pygments_lexer": "ipython3",
   "version": "3.8.10"
  },
  "orig_nbformat": 4,
  "vscode": {
   "interpreter": {
    "hash": "b391c3d66e7cdcd5c2a5ce5e3c0ae4d73a495d78b8a59ddddcc985ac8a7ff4e9"
   }
  }
 },
 "nbformat": 4,
 "nbformat_minor": 2
}
