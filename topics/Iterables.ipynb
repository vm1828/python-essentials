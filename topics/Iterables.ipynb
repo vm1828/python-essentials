{
 "cells": [
  {
   "attachments": {},
   "cell_type": "markdown",
   "metadata": {},
   "source": [
    "# Iterables"
   ]
  },
  {
   "attachments": {},
   "cell_type": "markdown",
   "metadata": {},
   "source": [
    "### Sequences"
   ]
  },
  {
   "attachments": {},
   "cell_type": "markdown",
   "metadata": {},
   "source": [
    "**Sequence** - a subset of iterables that have:\n",
    "- a length\n",
    "- an index\n",
    "- can be sliced\n",
    "  \n",
    "*Examples of iterables that are not sequences*:\n",
    "- dictionaries\n",
    "- sets\n",
    "- files\n",
    "- generators"
   ]
  },
  {
   "cell_type": "code",
   "execution_count": 2,
   "metadata": {},
   "outputs": [
    {
     "data": {
      "text/plain": [
       "list_reverseiterator"
      ]
     },
     "execution_count": 2,
     "metadata": {},
     "output_type": "execute_result"
    }
   ],
   "source": [
    "# reverse method reverses a sequence in place\n",
    "\n",
    "lst = [1, 2, 3, 4]\n",
    "lst.reverse()\n",
    "\n",
    "# to reverse sequence creating new sequence we can use slicing\n",
    "lst = lst[::-1]\n",
    "\n",
    "# reversed function returns an iterator\n",
    "type(reversed(lst))\n"
   ]
  }
 ],
 "metadata": {
  "kernelspec": {
   "display_name": "venv",
   "language": "python",
   "name": "python3"
  },
  "language_info": {
   "codemirror_mode": {
    "name": "ipython",
    "version": 3
   },
   "file_extension": ".py",
   "mimetype": "text/x-python",
   "name": "python",
   "nbconvert_exporter": "python",
   "pygments_lexer": "ipython3",
   "version": "3.8.10"
  },
  "orig_nbformat": 4,
  "vscode": {
   "interpreter": {
    "hash": "0000805b724c1562212277f51ef19a430422aed4b5168dbda158a89ccfc728d6"
   }
  }
 },
 "nbformat": 4,
 "nbformat_minor": 2
}
