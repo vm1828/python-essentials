{
 "cells": [
  {
   "cell_type": "markdown",
   "metadata": {},
   "source": [
    "# Multiprocessing"
   ]
  },
  {
   "cell_type": "code",
   "execution_count": 1,
   "metadata": {},
   "outputs": [],
   "source": [
    "# from multiprocessing import Process\n",
    "\n",
    "# on some operating systems can't spin up a new process \n",
    "# that runs the function if it is defined in the same file (including jupiter notebook files)\n",
    "# that's why here will be used third party module\n",
    "\n",
    "from multiprocess import Process\n",
    "from time import sleep"
   ]
  },
  {
   "cell_type": "code",
   "execution_count": 2,
   "metadata": {},
   "outputs": [
    {
     "name": "stdout",
     "output_type": "stream",
     "text": [
      "{}\n"
     ]
    }
   ],
   "source": [
    "def long_square(num, results):\n",
    "    sleep(1)\n",
    "    results[num] = num**2\n",
    "\n",
    "results = {}\n",
    "processes = [Process(target=long_square, args=(n, results)) for n in range(4)]\n",
    "[p.start() for p in processes]\n",
    "[p.join() for p in processes]\n",
    "\n",
    "print(results)"
   ]
  },
  {
   "cell_type": "markdown",
   "metadata": {},
   "source": [
    "The result is empty because unlike threads, processes don't share memory. They get a copy of that dictionary in their own separate memory space and we have no way of accessing it, except if they record it somewhere like a file system or a database.\n",
    "We still can print the results inside the function, but it will be a mess:"
   ]
  },
  {
   "cell_type": "code",
   "execution_count": 3,
   "metadata": {},
   "outputs": [
    {
     "name": "stdout",
     "output_type": "stream",
     "text": [
      "0\n",
      "Finished computing!1\n",
      "\n",
      "Finished computing!4\n",
      "\n",
      "Finished computing!\n",
      "9\n",
      "Finished computing!\n"
     ]
    },
    {
     "data": {
      "text/plain": [
       "[None, None, None, None]"
      ]
     },
     "execution_count": 3,
     "metadata": {},
     "output_type": "execute_result"
    }
   ],
   "source": [
    "def long_square(num):\n",
    "    sleep(1)\n",
    "    print(num**2)\n",
    "    print('Finished computing!')\n",
    "\n",
    "processes = [Process(target=long_square, args=(n,)) for n in range(4)]\n",
    "[p.start() for p in processes]\n",
    "[p.join() for p in processes]"
   ]
  }
 ],
 "metadata": {
  "kernelspec": {
   "display_name": "Python 3.8.10 ('venv': venv)",
   "language": "python",
   "name": "python3"
  },
  "language_info": {
   "codemirror_mode": {
    "name": "ipython",
    "version": 3
   },
   "file_extension": ".py",
   "mimetype": "text/x-python",
   "name": "python",
   "nbconvert_exporter": "python",
   "pygments_lexer": "ipython3",
   "version": "3.8.10"
  },
  "orig_nbformat": 4,
  "vscode": {
   "interpreter": {
    "hash": "0000805b724c1562212277f51ef19a430422aed4b5168dbda158a89ccfc728d6"
   }
  }
 },
 "nbformat": 4,
 "nbformat_minor": 2
}
