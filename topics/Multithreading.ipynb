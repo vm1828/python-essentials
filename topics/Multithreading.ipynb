{
 "cells": [
  {
   "cell_type": "markdown",
   "metadata": {},
   "source": [
    "# Multithreading"
   ]
  },
  {
   "cell_type": "markdown",
   "metadata": {},
   "source": [
    "- Threading emulates parallel computing\n",
    "- Useful when your program has periods of downtime"
   ]
  },
  {
   "cell_type": "code",
   "execution_count": 1,
   "metadata": {},
   "outputs": [],
   "source": [
    "from threading import Thread\n",
    "from time import sleep"
   ]
  },
  {
   "cell_type": "code",
   "execution_count": 2,
   "metadata": {},
   "outputs": [],
   "source": [
    "def long_square(num):\n",
    "    sleep(1)\n",
    "    return num**2"
   ]
  },
  {
   "cell_type": "code",
   "execution_count": 3,
   "metadata": {},
   "outputs": [],
   "source": [
    "# without threading it will take more than 5 sec\n",
    "# [long_square(n) for n in range(5)]"
   ]
  },
  {
   "cell_type": "code",
   "execution_count": 4,
   "metadata": {},
   "outputs": [
    {
     "name": "stdout",
     "output_type": "stream",
     "text": [
      "{0: 0, 1: 1, 2: 4, 3: 9, 6: 36, 4: 16, 9: 81, 5: 25, 8: 64, 10: 100, 11: 121, 7: 49, 14: 196, 12: 144, 15: 225, 17: 289, 13: 169, 16: 256, 18: 324, 22: 484, 23: 529, 19: 361, 21: 441, 20: 400, 26: 676, 27: 729, 24: 576, 28: 784, 25: 625, 30: 900, 31: 961, 33: 1089, 29: 841, 34: 1156, 32: 1024, 36: 1296, 37: 1369, 38: 1444, 40: 1600, 39: 1521, 35: 1225, 41: 1681, 43: 1849, 46: 2116, 44: 1936, 42: 1764, 45: 2025, 48: 2304, 49: 2401, 52: 2704, 47: 2209, 50: 2500, 53: 2809, 51: 2601, 55: 3025, 56: 3136, 59: 3481, 54: 2916, 57: 3249, 58: 3364, 61: 3721, 62: 3844, 63: 3969, 64: 4096, 65: 4225, 66: 4356, 68: 4624, 60: 3600, 67: 4489, 70: 4900, 69: 4761, 72: 5184, 73: 5329, 74: 5476, 75: 5625, 76: 5776, 77: 5929, 78: 6084, 81: 6561, 79: 6241, 83: 6889, 85: 7225, 80: 6400, 84: 7056, 71: 5041, 88: 7744, 82: 6724, 86: 7396, 87: 7569, 89: 7921, 90: 8100, 92: 8464, 91: 8281, 93: 8649, 97: 9409, 98: 9604, 96: 9216, 94: 8836, 95: 9025, 99: 9801}\n"
     ]
    }
   ],
   "source": [
    "# threads share memory and can modify the same object\n",
    "results = {}\n",
    "\n",
    "def long_square(num, results):\n",
    "    sleep(1)\n",
    "    results[num] = num**2\n",
    "\n",
    "threads = [Thread(target=long_square, args=(n, results)) for n in range(100)]\n",
    "[t.start() for t in threads]\n",
    "[t.join() for t in threads]\n",
    "\n",
    "print(results)"
   ]
  },
  {
   "cell_type": "code",
   "execution_count": 5,
   "metadata": {},
   "outputs": [
    {
     "name": "stdout",
     "output_type": "stream",
     "text": [
      "01\n",
      "Finished computing!\n",
      "\n",
      "Finished computing!\n",
      "9\n",
      "Finished computing!\n",
      "16\n",
      "Finished computing!\n",
      "4\n",
      "Finished computing!\n"
     ]
    },
    {
     "data": {
      "text/plain": [
       "[None, None, None, None, None]"
      ]
     },
     "execution_count": 5,
     "metadata": {},
     "output_type": "execute_result"
    }
   ],
   "source": [
    "# If we just print results, it will be a mess)\n",
    "\n",
    "def long_square(num, results):\n",
    "    sleep(1)\n",
    "    print(num**2)\n",
    "    print('Finished computing!')\n",
    "\n",
    "threads = [Thread(target=long_square, args=(n, results)) for n in range(5)]\n",
    "[t.start() for t in threads]\n",
    "[t.join() for t in threads]"
   ]
  }
 ],
 "metadata": {
  "kernelspec": {
   "display_name": "Python 3.8.10 ('venv': venv)",
   "language": "python",
   "name": "python3"
  },
  "language_info": {
   "codemirror_mode": {
    "name": "ipython",
    "version": 3
   },
   "file_extension": ".py",
   "mimetype": "text/x-python",
   "name": "python",
   "nbconvert_exporter": "python",
   "pygments_lexer": "ipython3",
   "version": "3.8.10"
  },
  "orig_nbformat": 4,
  "vscode": {
   "interpreter": {
    "hash": "0000805b724c1562212277f51ef19a430422aed4b5168dbda158a89ccfc728d6"
   }
  }
 },
 "nbformat": 4,
 "nbformat_minor": 2
}
