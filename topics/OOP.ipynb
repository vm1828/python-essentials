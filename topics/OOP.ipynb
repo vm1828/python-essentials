{
 "cells": [
  {
   "cell_type": "markdown",
   "metadata": {},
   "source": [
    "# OOP"
   ]
  },
  {
   "attachments": {},
   "cell_type": "markdown",
   "metadata": {},
   "source": [
    "Methods:\n",
    "- instance methods\n",
    "- class methods\n",
    "- static methods\n",
    "\n",
    "Attributes:\n",
    "- instance attributes\n",
    "- static attributes"
   ]
  },
  {
   "cell_type": "code",
   "execution_count": 1,
   "metadata": {},
   "outputs": [
    {
     "name": "stdout",
     "output_type": "stream",
     "text": [
      "Bark!\n",
      "Bark!\n"
     ]
    }
   ],
   "source": [
    "class Dog:\n",
    "    def speak(self):\n",
    "        print('Bark!')\n",
    "\n",
    "my_dog = Dog()\n",
    "\n",
    "my_dog.speak()\n",
    "Dog.speak(my_dog)"
   ]
  },
  {
   "cell_type": "markdown",
   "metadata": {},
   "source": [
    "### Class methods and members\n",
    "\n",
    "Instance methods work on specific object, class methods work on the entire class"
   ]
  },
  {
   "cell_type": "code",
   "execution_count": 2,
   "metadata": {},
   "outputs": [
    {
     "name": "stdout",
     "output_type": "stream",
     "text": [
      "('HARDCOVER', 'PAPERBACK', 'EBOOK')\n",
      "('HARDCOVER', 'PAPERBACK', 'EBOOK')\n",
      "\n",
      "('HARDCOVER', 'PAPERBACK', 'EBOOK')\n",
      "book types changed for instance\n",
      "\n"
     ]
    }
   ],
   "source": [
    "class Book:\n",
    "  BOOK_TYPES = ('HARDCOVER', 'PAPERBACK', 'EBOOK')\n",
    "\n",
    "  def __init__(self, title, booktype):\n",
    "    self.title = title\n",
    "    if (not booktype in Book.BOOK_TYPES):\n",
    "      raise ValueError(f'{booktype} is not a valid book type')\n",
    "    self.booktype = booktype\n",
    "\n",
    "@classmethod\n",
    "def getbooktypes(cls):\n",
    "    return cls.BOOK_TYPES\n",
    "\n",
    "book1 = Book('My Book', 'HARDCOVER')\n",
    "\n",
    "print(Book.BOOK_TYPES)\n",
    "print(book1.BOOK_TYPES)\n",
    "print()\n",
    "\n",
    "# `BOOK_TYPES` is static attribute (static variable of the class)\n",
    "# each instance and class itself will have that static attribute, but instance will have its copy that can be changed\n",
    "book1.BOOK_TYPES = 'book types changed for instance'\n",
    "print(Book.BOOK_TYPES)\n",
    "print(book1.BOOK_TYPES)\n",
    "print()\n",
    "\n",
    "# we can prevent accessing static attribute by adding __ to it (`__BOOK_TYPES`), in that case getter is needed\n"
   ]
  },
  {
   "attachments": {},
   "cell_type": "markdown",
   "metadata": {},
   "source": [
    "### Static methods\n",
    "\n",
    "Static methods don't modify the state of either the class or a specific object instance.  \n",
    "It is just a way of taking a global function and putting it in the classes namespace."
   ]
  },
  {
   "cell_type": "code",
   "execution_count": 3,
   "metadata": {},
   "outputs": [
    {
     "name": "stdout",
     "output_type": "stream",
     "text": [
      "[<__main__.Book object at 0x7fe7c445a7c0>, <__main__.Book object at 0x7fe7c445a430>]\n",
      "Book list contains 2 books\n"
     ]
    }
   ],
   "source": [
    "class Book:\n",
    "    __booklist = None\n",
    "\n",
    "    def get_books_count(self):\n",
    "        return len(self.getbooklist())\n",
    "\n",
    "    @staticmethod\n",
    "    def getbooklist():\n",
    "        if Book.__booklist == None:\n",
    "            Book.__booklist = []\n",
    "        return Book.__booklist\n",
    "\n",
    "thebooks = Book.getbooklist()\n",
    "# We can't access this attribute directly because it is __booklist\n",
    "# If it was just `booklist`: `Book.booklist`, `book1.booklist` etc.\n",
    "\n",
    "book1 = Book()\n",
    "book2 = Book()\n",
    "thebooks.append(book1)\n",
    "thebooks.append(book2)\n",
    "print(thebooks)\n",
    "print(f'Book list contains {book1.get_books_count()} books')"
   ]
  }
 ],
 "metadata": {
  "kernelspec": {
   "display_name": ".venv",
   "language": "python",
   "name": "python3"
  },
  "language_info": {
   "codemirror_mode": {
    "name": "ipython",
    "version": 3
   },
   "file_extension": ".py",
   "mimetype": "text/x-python",
   "name": "python",
   "nbconvert_exporter": "python",
   "pygments_lexer": "ipython3",
   "version": "3.8.10"
  },
  "orig_nbformat": 4,
  "vscode": {
   "interpreter": {
    "hash": "b391c3d66e7cdcd5c2a5ce5e3c0ae4d73a495d78b8a59ddddcc985ac8a7ff4e9"
   }
  }
 },
 "nbformat": 4,
 "nbformat_minor": 2
}
