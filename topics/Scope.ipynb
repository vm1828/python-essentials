{
 "cells": [
  {
   "attachments": {},
   "cell_type": "markdown",
   "metadata": {},
   "source": [
    "# Scope"
   ]
  },
  {
   "attachments": {},
   "cell_type": "markdown",
   "metadata": {},
   "source": [
    "## Scope variables"
   ]
  },
  {
   "cell_type": "code",
   "execution_count": 1,
   "metadata": {},
   "outputs": [
    {
     "name": "stdout",
     "output_type": "stream",
     "text": [
      "{'__name__': '__main__', '__doc__': 'Automatically created module for IPython interactive environment', '__package__': None, '__loader__': None, '__spec__': None, '__builtin__': <module 'builtins' (built-in)>, '__builtins__': <module 'builtins' (built-in)>, '_ih': ['', 'print(globals())'], '_oh': {}, '_dh': [PosixPath('/home/tm0123456789/python-base/topics'), PosixPath('/home/tm0123456789/python-base/topics')], 'In': ['', 'print(globals())'], 'Out': {}, 'get_ipython': <bound method InteractiveShell.get_ipython of <ipykernel.zmqshell.ZMQInteractiveShell object at 0x7f467e872100>>, 'exit': <IPython.core.autocall.ZMQExitAutocall object at 0x7f467e872ac0>, 'quit': <IPython.core.autocall.ZMQExitAutocall object at 0x7f467e872ac0>, 'open': <function open at 0x7f467fad2430>, '_': '', '__': '', '___': '', '__vsc_ipynb_file__': '/home/tm0123456789/python-base/topics/Scope.ipynb', '_i': '', '_ii': '', '_iii': '', '_i1': 'print(globals())'}\n"
     ]
    }
   ],
   "source": [
    "print(globals())"
   ]
  },
  {
   "cell_type": "code",
   "execution_count": 2,
   "metadata": {},
   "outputs": [
    {
     "name": "stdout",
     "output_type": "stream",
     "text": [
      "True\n"
     ]
    }
   ],
   "source": [
    "# on module level globals are locals\n",
    "print(globals() == locals())"
   ]
  },
  {
   "cell_type": "code",
   "execution_count": 3,
   "metadata": {},
   "outputs": [
    {
     "name": "stdout",
     "output_type": "stream",
     "text": [
      "{'self': <__main__.MyClass object at 0x7f466d78be50>, 'a': 111, 'b': 222, 'c': True}\n"
     ]
    }
   ],
   "source": [
    "class MyClass:\n",
    "    def __init__(self, a, b, c=True):\n",
    "        print(locals())\n",
    "        self._a = a\n",
    "        self._b = b\n",
    "\n",
    "my_class = MyClass(111, 222)"
   ]
  }
 ],
 "metadata": {
  "kernelspec": {
   "display_name": ".venv",
   "language": "python",
   "name": "python3"
  },
  "language_info": {
   "codemirror_mode": {
    "name": "ipython",
    "version": 3
   },
   "file_extension": ".py",
   "mimetype": "text/x-python",
   "name": "python",
   "nbconvert_exporter": "python",
   "pygments_lexer": "ipython3",
   "version": "3.8.10"
  },
  "orig_nbformat": 4,
  "vscode": {
   "interpreter": {
    "hash": "b391c3d66e7cdcd5c2a5ce5e3c0ae4d73a495d78b8a59ddddcc985ac8a7ff4e9"
   }
  }
 },
 "nbformat": 4,
 "nbformat_minor": 2
}
