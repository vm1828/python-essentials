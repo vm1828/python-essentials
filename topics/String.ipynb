{
 "cells": [
  {
   "attachments": {},
   "cell_type": "markdown",
   "metadata": {},
   "source": [
    "# String"
   ]
  },
  {
   "cell_type": "code",
   "execution_count": 1,
   "metadata": {},
   "outputs": [
    {
     "name": "stdout",
     "output_type": "stream",
     "text": [
      "Original string: фффф\n",
      "Type of encoded string: <class 'bytes'>\n",
      "Type of decoded string: <class 'str'>\n",
      "Decoded string: 蓑蓑蓑蓑\n",
      "Try to decode using ascii encoding: <'ascii' codec can't decode byte 0xd1 in position 0: ordinal not in range(128)>\n"
     ]
    }
   ],
   "source": [
    "string = 'фффф'\n",
    "print('Original string:', string)\n",
    "encoded = string.encode(encoding='utf-8')\n",
    "print('Type of encoded string:', type(encoded))\n",
    "decoded = encoded.decode(encoding='utf-16')\n",
    "print('Type of decoded string:', type(decoded))\n",
    "print('Decoded string:', decoded)\n",
    "\n",
    "try:\n",
    "    encoded.decode(encoding='ascii')\n",
    "except Exception as e:\n",
    "    print(f'Try to decode using ascii encoding: <{e}>')"
   ]
  },
  {
   "attachments": {},
   "cell_type": "markdown",
   "metadata": {},
   "source": [
    "# Unicode"
   ]
  },
  {
   "cell_type": "markdown",
   "metadata": {},
   "source": [
    "Unicode is an encoding schema (utf-8). Every character encoded in unicode is represented by 1 (ascii), 2 (russian, hebrew etc.) or 3+ (hieroglyphs, emojis etc.) bytes."
   ]
  },
  {
   "cell_type": "markdown",
   "metadata": {},
   "source": [
    "Bytes are represented using hexadecimal values (each byte can be a number from 0 (x00) to 255 (xFF) (15*15, bcz binary 1111 is 15))"
   ]
  },
  {
   "cell_type": "code",
   "execution_count": 2,
   "metadata": {},
   "outputs": [
    {
     "data": {
      "text/plain": [
       "8"
      ]
     },
     "execution_count": 2,
     "metadata": {},
     "output_type": "execute_result"
    }
   ],
   "source": [
    "s = 'der Fluß'\n",
    "len(s)"
   ]
  },
  {
   "cell_type": "code",
   "execution_count": 3,
   "metadata": {},
   "outputs": [
    {
     "name": "stdout",
     "output_type": "stream",
     "text": [
      "b'der Flu\\xc3\\x9f'\n",
      "9\n",
      "\n",
      "der Fluß\n"
     ]
    }
   ],
   "source": [
    "b = s.encode()\n",
    "print(b)\n",
    "print(len(b))\n",
    "print()\n",
    "\n",
    "s2 = b.decode()\n",
    "print(s2)"
   ]
  }
 ],
 "metadata": {
  "kernelspec": {
   "display_name": ".venv",
   "language": "python",
   "name": "python3"
  },
  "language_info": {
   "codemirror_mode": {
    "name": "ipython",
    "version": 3
   },
   "file_extension": ".py",
   "mimetype": "text/x-python",
   "name": "python",
   "nbconvert_exporter": "python",
   "pygments_lexer": "ipython3",
   "version": "3.8.10"
  },
  "orig_nbformat": 4,
  "vscode": {
   "interpreter": {
    "hash": "b391c3d66e7cdcd5c2a5ce5e3c0ae4d73a495d78b8a59ddddcc985ac8a7ff4e9"
   }
  }
 },
 "nbformat": 4,
 "nbformat_minor": 2
}
