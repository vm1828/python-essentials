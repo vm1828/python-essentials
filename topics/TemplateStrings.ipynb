{
 "cells": [
  {
   "cell_type": "markdown",
   "metadata": {},
   "source": [
    "# Template Strings"
   ]
  },
  {
   "cell_type": "code",
   "execution_count": 1,
   "metadata": {},
   "outputs": [],
   "source": [
    "from string import Template"
   ]
  },
  {
   "cell_type": "code",
   "execution_count": null,
   "metadata": {},
   "outputs": [],
   "source": [
    "\n",
    "templ = Template(\"Name: ${name}, age: ${age}\")\n",
    "str = templ.substitute(name=\"John\", age=20)\n",
    "\n",
    "data = {\"name\": \"John\", \"age\": 20}\n",
    "str = templ.substitute(data)"
   ]
  }
 ],
 "metadata": {
  "kernelspec": {
   "display_name": "Python 3.8.10 ('venv': venv)",
   "language": "python",
   "name": "python3"
  },
  "language_info": {
   "codemirror_mode": {
    "name": "ipython",
    "version": 3
   },
   "file_extension": ".py",
   "mimetype": "text/x-python",
   "name": "python",
   "nbconvert_exporter": "python",
   "pygments_lexer": "ipython3",
   "version": "3.8.10"
  },
  "orig_nbformat": 4,
  "vscode": {
   "interpreter": {
    "hash": "0000805b724c1562212277f51ef19a430422aed4b5168dbda158a89ccfc728d6"
   }
  }
 },
 "nbformat": 4,
 "nbformat_minor": 2
}
